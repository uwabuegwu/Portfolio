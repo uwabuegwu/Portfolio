{
 "cells": [
  {
   "cell_type": "code",
   "execution_count": 143,
   "id": "e7cdca8d",
   "metadata": {},
   "outputs": [
    {
     "name": "stdout",
     "output_type": "stream",
     "text": [
      "Requirement already satisfied: tensorflow in c:\\users\\uwabuegwu\\anaconda3\\lib\\site-packages (2.12.0)\n",
      "Requirement already satisfied: tensorflow-intel==2.12.0 in c:\\users\\uwabuegwu\\anaconda3\\lib\\site-packages (from tensorflow) (2.12.0)\n",
      "Requirement already satisfied: flatbuffers>=2.0 in c:\\users\\uwabuegwu\\anaconda3\\lib\\site-packages (from tensorflow-intel==2.12.0->tensorflow) (23.3.3)\n",
      "Requirement already satisfied: wrapt<1.15,>=1.11.0 in c:\\users\\uwabuegwu\\anaconda3\\lib\\site-packages (from tensorflow-intel==2.12.0->tensorflow) (1.12.1)\n",
      "Requirement already satisfied: astunparse>=1.6.0 in c:\\users\\uwabuegwu\\anaconda3\\lib\\site-packages (from tensorflow-intel==2.12.0->tensorflow) (1.6.3)\n",
      "Requirement already satisfied: numpy<1.24,>=1.22 in c:\\users\\uwabuegwu\\anaconda3\\lib\\site-packages (from tensorflow-intel==2.12.0->tensorflow) (1.23.5)\n",
      "Requirement already satisfied: protobuf!=4.21.0,!=4.21.1,!=4.21.2,!=4.21.3,!=4.21.4,!=4.21.5,<5.0.0dev,>=3.20.3 in c:\\users\\uwabuegwu\\anaconda3\\lib\\site-packages (from tensorflow-intel==2.12.0->tensorflow) (4.22.3)\n",
      "Requirement already satisfied: gast<=0.4.0,>=0.2.1 in c:\\users\\uwabuegwu\\anaconda3\\lib\\site-packages (from tensorflow-intel==2.12.0->tensorflow) (0.4.0)\n",
      "Requirement already satisfied: six>=1.12.0 in c:\\users\\uwabuegwu\\anaconda3\\lib\\site-packages (from tensorflow-intel==2.12.0->tensorflow) (1.15.0)\n",
      "Requirement already satisfied: termcolor>=1.1.0 in c:\\users\\uwabuegwu\\anaconda3\\lib\\site-packages (from tensorflow-intel==2.12.0->tensorflow) (2.3.0)\n",
      "Requirement already satisfied: tensorboard<2.13,>=2.12 in c:\\users\\uwabuegwu\\anaconda3\\lib\\site-packages (from tensorflow-intel==2.12.0->tensorflow) (2.12.2)\n",
      "Requirement already satisfied: typing-extensions>=3.6.6 in c:\\users\\uwabuegwu\\anaconda3\\lib\\site-packages (from tensorflow-intel==2.12.0->tensorflow) (3.7.4.3)\n",
      "Requirement already satisfied: tensorflow-io-gcs-filesystem>=0.23.1 in c:\\users\\uwabuegwu\\anaconda3\\lib\\site-packages (from tensorflow-intel==2.12.0->tensorflow) (0.31.0)\n",
      "Requirement already satisfied: keras<2.13,>=2.12.0 in c:\\users\\uwabuegwu\\anaconda3\\lib\\site-packages (from tensorflow-intel==2.12.0->tensorflow) (2.12.0)\n",
      "Requirement already satisfied: libclang>=13.0.0 in c:\\users\\uwabuegwu\\anaconda3\\lib\\site-packages (from tensorflow-intel==2.12.0->tensorflow) (16.0.0)\n",
      "Requirement already satisfied: packaging in c:\\users\\uwabuegwu\\anaconda3\\lib\\site-packages (from tensorflow-intel==2.12.0->tensorflow) (20.9)\n",
      "Requirement already satisfied: h5py>=2.9.0 in c:\\users\\uwabuegwu\\anaconda3\\lib\\site-packages (from tensorflow-intel==2.12.0->tensorflow) (2.10.0)\n",
      "Requirement already satisfied: google-pasta>=0.1.1 in c:\\users\\uwabuegwu\\anaconda3\\lib\\site-packages (from tensorflow-intel==2.12.0->tensorflow) (0.2.0)\n",
      "Requirement already satisfied: grpcio<2.0,>=1.24.3 in c:\\users\\uwabuegwu\\anaconda3\\lib\\site-packages (from tensorflow-intel==2.12.0->tensorflow) (1.54.0)\n",
      "Requirement already satisfied: setuptools in c:\\users\\uwabuegwu\\anaconda3\\lib\\site-packages (from tensorflow-intel==2.12.0->tensorflow) (52.0.0.post20210125)\n",
      "Requirement already satisfied: tensorflow-estimator<2.13,>=2.12.0 in c:\\users\\uwabuegwu\\anaconda3\\lib\\site-packages (from tensorflow-intel==2.12.0->tensorflow) (2.12.0)\n",
      "Requirement already satisfied: jax>=0.3.15 in c:\\users\\uwabuegwu\\anaconda3\\lib\\site-packages (from tensorflow-intel==2.12.0->tensorflow) (0.4.8)\n",
      "Requirement already satisfied: opt-einsum>=2.3.2 in c:\\users\\uwabuegwu\\anaconda3\\lib\\site-packages (from tensorflow-intel==2.12.0->tensorflow) (3.3.0)\n",
      "Requirement already satisfied: absl-py>=1.0.0 in c:\\users\\uwabuegwu\\anaconda3\\lib\\site-packages (from tensorflow-intel==2.12.0->tensorflow) (1.4.0)\n",
      "Requirement already satisfied: wheel<1.0,>=0.23.0 in c:\\users\\uwabuegwu\\anaconda3\\lib\\site-packages (from astunparse>=1.6.0->tensorflow-intel==2.12.0->tensorflow) (0.36.2)\n",
      "Requirement already satisfied: ml-dtypes>=0.0.3 in c:\\users\\uwabuegwu\\anaconda3\\lib\\site-packages (from jax>=0.3.15->tensorflow-intel==2.12.0->tensorflow) (0.1.0)\n",
      "Requirement already satisfied: scipy>=1.7 in c:\\users\\uwabuegwu\\anaconda3\\lib\\site-packages (from jax>=0.3.15->tensorflow-intel==2.12.0->tensorflow) (1.10.1)\n",
      "Requirement already satisfied: requests<3,>=2.21.0 in c:\\users\\uwabuegwu\\anaconda3\\lib\\site-packages (from tensorboard<2.13,>=2.12->tensorflow-intel==2.12.0->tensorflow) (2.25.1)\n",
      "Requirement already satisfied: markdown>=2.6.8 in c:\\users\\uwabuegwu\\anaconda3\\lib\\site-packages (from tensorboard<2.13,>=2.12->tensorflow-intel==2.12.0->tensorflow) (3.4.3)\n",
      "Requirement already satisfied: werkzeug>=1.0.1 in c:\\users\\uwabuegwu\\anaconda3\\lib\\site-packages (from tensorboard<2.13,>=2.12->tensorflow-intel==2.12.0->tensorflow) (1.0.1)\n",
      "Requirement already satisfied: tensorboard-plugin-wit>=1.6.0 in c:\\users\\uwabuegwu\\anaconda3\\lib\\site-packages (from tensorboard<2.13,>=2.12->tensorflow-intel==2.12.0->tensorflow) (1.8.1)\n",
      "Requirement already satisfied: google-auth-oauthlib<1.1,>=0.5 in c:\\users\\uwabuegwu\\anaconda3\\lib\\site-packages (from tensorboard<2.13,>=2.12->tensorflow-intel==2.12.0->tensorflow) (1.0.0)\n",
      "Requirement already satisfied: google-auth<3,>=1.6.3 in c:\\users\\uwabuegwu\\anaconda3\\lib\\site-packages (from tensorboard<2.13,>=2.12->tensorflow-intel==2.12.0->tensorflow) (2.17.3)\n",
      "Requirement already satisfied: tensorboard-data-server<0.8.0,>=0.7.0 in c:\\users\\uwabuegwu\\anaconda3\\lib\\site-packages (from tensorboard<2.13,>=2.12->tensorflow-intel==2.12.0->tensorflow) (0.7.0)\n",
      "Requirement already satisfied: rsa<5,>=3.1.4 in c:\\users\\uwabuegwu\\anaconda3\\lib\\site-packages (from google-auth<3,>=1.6.3->tensorboard<2.13,>=2.12->tensorflow-intel==2.12.0->tensorflow) (4.9)\n",
      "Requirement already satisfied: pyasn1-modules>=0.2.1 in c:\\users\\uwabuegwu\\anaconda3\\lib\\site-packages (from google-auth<3,>=1.6.3->tensorboard<2.13,>=2.12->tensorflow-intel==2.12.0->tensorflow) (0.3.0)\n",
      "Requirement already satisfied: cachetools<6.0,>=2.0.0 in c:\\users\\uwabuegwu\\anaconda3\\lib\\site-packages (from google-auth<3,>=1.6.3->tensorboard<2.13,>=2.12->tensorflow-intel==2.12.0->tensorflow) (5.3.0)\n",
      "Requirement already satisfied: requests-oauthlib>=0.7.0 in c:\\users\\uwabuegwu\\anaconda3\\lib\\site-packages (from google-auth-oauthlib<1.1,>=0.5->tensorboard<2.13,>=2.12->tensorflow-intel==2.12.0->tensorflow) (1.3.1)\n",
      "Requirement already satisfied: importlib-metadata>=4.4 in c:\\users\\uwabuegwu\\anaconda3\\lib\\site-packages (from markdown>=2.6.8->tensorboard<2.13,>=2.12->tensorflow-intel==2.12.0->tensorflow) (6.6.0)\n",
      "Requirement already satisfied: zipp>=0.5 in c:\\users\\uwabuegwu\\anaconda3\\lib\\site-packages (from importlib-metadata>=4.4->markdown>=2.6.8->tensorboard<2.13,>=2.12->tensorflow-intel==2.12.0->tensorflow) (3.4.1)\n",
      "Requirement already satisfied: pyasn1<0.6.0,>=0.4.6 in c:\\users\\uwabuegwu\\anaconda3\\lib\\site-packages (from pyasn1-modules>=0.2.1->google-auth<3,>=1.6.3->tensorboard<2.13,>=2.12->tensorflow-intel==2.12.0->tensorflow) (0.5.0)\n",
      "Requirement already satisfied: urllib3<1.27,>=1.21.1 in c:\\users\\uwabuegwu\\anaconda3\\lib\\site-packages (from requests<3,>=2.21.0->tensorboard<2.13,>=2.12->tensorflow-intel==2.12.0->tensorflow) (1.26.4)\n",
      "Requirement already satisfied: idna<3,>=2.5 in c:\\users\\uwabuegwu\\anaconda3\\lib\\site-packages (from requests<3,>=2.21.0->tensorboard<2.13,>=2.12->tensorflow-intel==2.12.0->tensorflow) (2.10)\n",
      "Requirement already satisfied: chardet<5,>=3.0.2 in c:\\users\\uwabuegwu\\anaconda3\\lib\\site-packages (from requests<3,>=2.21.0->tensorboard<2.13,>=2.12->tensorflow-intel==2.12.0->tensorflow) (4.0.0)\n",
      "Requirement already satisfied: certifi>=2017.4.17 in c:\\users\\uwabuegwu\\anaconda3\\lib\\site-packages (from requests<3,>=2.21.0->tensorboard<2.13,>=2.12->tensorflow-intel==2.12.0->tensorflow) (2020.12.5)\n",
      "Requirement already satisfied: oauthlib>=3.0.0 in c:\\users\\uwabuegwu\\anaconda3\\lib\\site-packages (from requests-oauthlib>=0.7.0->google-auth-oauthlib<1.1,>=0.5->tensorboard<2.13,>=2.12->tensorflow-intel==2.12.0->tensorflow) (3.2.2)\n",
      "Requirement already satisfied: pyparsing>=2.0.2 in c:\\users\\uwabuegwu\\anaconda3\\lib\\site-packages (from packaging->tensorflow-intel==2.12.0->tensorflow) (2.4.7)\n"
     ]
    }
   ],
   "source": [
    "!pip install tensorflow"
   ]
  },
  {
   "cell_type": "code",
   "execution_count": 1,
   "id": "a2a13a56",
   "metadata": {},
   "outputs": [],
   "source": [
    "from tensorflow import keras\n",
    "from keras.datasets import mnist\n",
    "import matplotlib.pyplot as plt\n",
    "import seaborn as sns\n",
    "import pandas as pd\n",
    "import numpy as np \n",
    "%matplotlib inline"
   ]
  },
  {
   "cell_type": "code",
   "execution_count": 145,
   "id": "e25b852d",
   "metadata": {},
   "outputs": [],
   "source": [
    "#Load and split the mnist data set into train and test\n",
    "(x_train, y_train), (x_test, y_test) = mnist.load_data()"
   ]
  },
  {
   "cell_type": "code",
   "execution_count": 146,
   "id": "fa2f68f5",
   "metadata": {},
   "outputs": [
    {
     "data": {
      "image/png": "[encoded data removed]",
      "text/plain": [
       "<Figure size 1080x216 with 6 Axes>"
      ]
     },
     "metadata": {
      "needs_background": "light"
     },
     "output_type": "display_data"
    }
   ],
   "source": [
    "fig, axs = plt.subplots(1, 6, figsize=(15, 3))\n",
    "for i in range(6):\n",
    "    axs[i].imshow(x_train[i])\n",
    "#    axs[i].set_title(class_names[y_train[i][0]])\n",
    "    axs[i].axis('off')\n",
    "plt.show()"
   ]
  },
  {
   "cell_type": "code",
   "execution_count": 147,
   "id": "c7b10e07",
   "metadata": {},
   "outputs": [
    {
     "data": {
      "text/plain": [
       "(60000, 28, 28)"
      ]
     },
     "execution_count": 147,
     "metadata": {},
     "output_type": "execute_result"
    },
    {
     "data": {
      "image/png": "[encoded data removed]",
      "text/plain": [
       "<Figure size 432x288 with 1 Axes>"
      ]
     },
     "metadata": {
      "needs_background": "light"
     },
     "output_type": "display_data"
    }
   ],
   "source": [
    "# Shows the shape of the train images (length, width, channel)\n",
    "plt.imshow(x_train[1])\n",
    "x_train\n",
    "\n",
    "x_train[0].shape\n",
    "x_train.shape"
   ]
  },
  {
   "cell_type": "code",
   "execution_count": 148,
   "id": "77574aa9",
   "metadata": {},
   "outputs": [
    {
     "data": {
      "text/plain": [
       "(28, 28)"
      ]
     },
     "execution_count": 148,
     "metadata": {},
     "output_type": "execute_result"
    },
    {
     "data": {
      "image/png": "[encoded data removed]",
      "text/plain": [
       "<Figure size 432x288 with 1 Axes>"
      ]
     },
     "metadata": {
      "needs_background": "light"
     },
     "output_type": "display_data"
    }
   ],
   "source": [
    "# Shows the shape of one of the train images (length, width, channel)\n",
    "plt.imshow(x_train[1])\n",
    "x_train\n",
    "x_train[1].shape"
   ]
  },
  {
   "cell_type": "code",
   "execution_count": 45,
   "id": "f18cbc1c",
   "metadata": {},
   "outputs": [],
   "source": [
    "#reshape to have access to every pixel of the image in training and testing dataset\n",
    "#x_train = x_train.reshape((x_train.shape[0], 28*28)).astype('float32')\n",
    "#x_test = x_test.reshape((x_test.shape[0], 28*28)).astype('float32')"
   ]
  },
  {
   "cell_type": "code",
   "execution_count": 149,
   "id": "41a2b863",
   "metadata": {},
   "outputs": [],
   "source": [
    "# divide by 255 to normalize all pixel values to range between 0 and 1\n",
    "x_train = x_train / 255.0\n",
    "x_test = x_test / 255.0"
   ]
  },
  {
   "cell_type": "code",
   "execution_count": 150,
   "id": "3ed0a524",
   "metadata": {},
   "outputs": [
    {
     "data": {
      "text/plain": [
       "array([[[0., 0., 0., ..., 0., 0., 0.],\n",
       "        [0., 0., 0., ..., 0., 0., 0.],\n",
       "        [0., 0., 0., ..., 0., 0., 0.],\n",
       "        ...,\n",
       "        [0., 0., 0., ..., 0., 0., 0.],\n",
       "        [0., 0., 0., ..., 0., 0., 0.],\n",
       "        [0., 0., 0., ..., 0., 0., 0.]],\n",
       "\n",
       "       [[0., 0., 0., ..., 0., 0., 0.],\n",
       "        [0., 0., 0., ..., 0., 0., 0.],\n",
       "        [0., 0., 0., ..., 0., 0., 0.],\n",
       "        ...,\n",
       "        [0., 0., 0., ..., 0., 0., 0.],\n",
       "        [0., 0., 0., ..., 0., 0., 0.],\n",
       "        [0., 0., 0., ..., 0., 0., 0.]],\n",
       "\n",
       "       [[0., 0., 0., ..., 0., 0., 0.],\n",
       "        [0., 0., 0., ..., 0., 0., 0.],\n",
       "        [0., 0., 0., ..., 0., 0., 0.],\n",
       "        ...,\n",
       "        [0., 0., 0., ..., 0., 0., 0.],\n",
       "        [0., 0., 0., ..., 0., 0., 0.],\n",
       "        [0., 0., 0., ..., 0., 0., 0.]],\n",
       "\n",
       "       ...,\n",
       "\n",
       "       [[0., 0., 0., ..., 0., 0., 0.],\n",
       "        [0., 0., 0., ..., 0., 0., 0.],\n",
       "        [0., 0., 0., ..., 0., 0., 0.],\n",
       "        ...,\n",
       "        [0., 0., 0., ..., 0., 0., 0.],\n",
       "        [0., 0., 0., ..., 0., 0., 0.],\n",
       "        [0., 0., 0., ..., 0., 0., 0.]],\n",
       "\n",
       "       [[0., 0., 0., ..., 0., 0., 0.],\n",
       "        [0., 0., 0., ..., 0., 0., 0.],\n",
       "        [0., 0., 0., ..., 0., 0., 0.],\n",
       "        ...,\n",
       "        [0., 0., 0., ..., 0., 0., 0.],\n",
       "        [0., 0., 0., ..., 0., 0., 0.],\n",
       "        [0., 0., 0., ..., 0., 0., 0.]],\n",
       "\n",
       "       [[0., 0., 0., ..., 0., 0., 0.],\n",
       "        [0., 0., 0., ..., 0., 0., 0.],\n",
       "        [0., 0., 0., ..., 0., 0., 0.],\n",
       "        ...,\n",
       "        [0., 0., 0., ..., 0., 0., 0.],\n",
       "        [0., 0., 0., ..., 0., 0., 0.],\n",
       "        [0., 0., 0., ..., 0., 0., 0.]]])"
      ]
     },
     "execution_count": 150,
     "metadata": {},
     "output_type": "execute_result"
    }
   ],
   "source": [
    "x_train"
   ]
  },
  {
   "cell_type": "code",
   "execution_count": 151,
   "id": "2a49eeb9",
   "metadata": {},
   "outputs": [
    {
     "data": {
      "text/plain": [
       "array([[[0., 0., 0., ..., 0., 0., 0.],\n",
       "        [0., 0., 0., ..., 0., 0., 0.],\n",
       "        [0., 0., 0., ..., 0., 0., 0.],\n",
       "        ...,\n",
       "        [0., 0., 0., ..., 0., 0., 0.],\n",
       "        [0., 0., 0., ..., 0., 0., 0.],\n",
       "        [0., 0., 0., ..., 0., 0., 0.]],\n",
       "\n",
       "       [[0., 0., 0., ..., 0., 0., 0.],\n",
       "        [0., 0., 0., ..., 0., 0., 0.],\n",
       "        [0., 0., 0., ..., 0., 0., 0.],\n",
       "        ...,\n",
       "        [0., 0., 0., ..., 0., 0., 0.],\n",
       "        [0., 0., 0., ..., 0., 0., 0.],\n",
       "        [0., 0., 0., ..., 0., 0., 0.]],\n",
       "\n",
       "       [[0., 0., 0., ..., 0., 0., 0.],\n",
       "        [0., 0., 0., ..., 0., 0., 0.],\n",
       "        [0., 0., 0., ..., 0., 0., 0.],\n",
       "        ...,\n",
       "        [0., 0., 0., ..., 0., 0., 0.],\n",
       "        [0., 0., 0., ..., 0., 0., 0.],\n",
       "        [0., 0., 0., ..., 0., 0., 0.]],\n",
       "\n",
       "       ...,\n",
       "\n",
       "       [[0., 0., 0., ..., 0., 0., 0.],\n",
       "        [0., 0., 0., ..., 0., 0., 0.],\n",
       "        [0., 0., 0., ..., 0., 0., 0.],\n",
       "        ...,\n",
       "        [0., 0., 0., ..., 0., 0., 0.],\n",
       "        [0., 0., 0., ..., 0., 0., 0.],\n",
       "        [0., 0., 0., ..., 0., 0., 0.]],\n",
       "\n",
       "       [[0., 0., 0., ..., 0., 0., 0.],\n",
       "        [0., 0., 0., ..., 0., 0., 0.],\n",
       "        [0., 0., 0., ..., 0., 0., 0.],\n",
       "        ...,\n",
       "        [0., 0., 0., ..., 0., 0., 0.],\n",
       "        [0., 0., 0., ..., 0., 0., 0.],\n",
       "        [0., 0., 0., ..., 0., 0., 0.]],\n",
       "\n",
       "       [[0., 0., 0., ..., 0., 0., 0.],\n",
       "        [0., 0., 0., ..., 0., 0., 0.],\n",
       "        [0., 0., 0., ..., 0., 0., 0.],\n",
       "        ...,\n",
       "        [0., 0., 0., ..., 0., 0., 0.],\n",
       "        [0., 0., 0., ..., 0., 0., 0.],\n",
       "        [0., 0., 0., ..., 0., 0., 0.]]])"
      ]
     },
     "execution_count": 151,
     "metadata": {},
     "output_type": "execute_result"
    }
   ],
   "source": [
    "x_test"
   ]
  },
  {
   "cell_type": "code",
   "execution_count": 152,
   "id": "8255355c",
   "metadata": {},
   "outputs": [
    {
     "data": {
      "text/plain": [
       "(60000, 28, 28)"
      ]
     },
     "execution_count": 152,
     "metadata": {},
     "output_type": "execute_result"
    }
   ],
   "source": [
    "x_train.shape"
   ]
  },
  {
   "cell_type": "code",
   "execution_count": 153,
   "id": "0681f451",
   "metadata": {},
   "outputs": [],
   "source": [
    "from tensorflow.keras.models import Sequential\n",
    "from tensorflow.keras.layers import Conv2D, MaxPooling2D, Flatten, Dense, Dropout, BatchNormalization\n",
    "from tensorflow.keras.optimizers import SGD"
   ]
  },
  {
   "cell_type": "markdown",
   "id": "a5fcc8b2",
   "metadata": {},
   "source": [
    "### First Training with Dropout Regularization"
   ]
  },
  {
   "cell_type": "code",
   "execution_count": 158,
   "id": "85d97dbf",
   "metadata": {},
   "outputs": [],
   "source": [
    "# Define the CNN architecture\n",
    "# Conv2D(filters=32,kernel_size=(3, 3) means use 32 filters (also called kernels) of size 3x3\n",
    "# input_shape=(32, 32, 3) means the input data is a 3D tensor with dimensions 32x32x3.(height x width x\n",
    "# The first dimension of the tensor (32) is the height of the image.\n",
    "#The second dimension of the tensor (32) is the width of the image.\n",
    "#The third dimension of the tensor (3) is the number of channels in the image (Red, Green, Blue colo\n",
    "# The MaxPooling2D(2, 2) performs a pooling operation where the (2,2) argument indicates the size of the\n",
    "# It reduces the spatial size of the feature maps and prevent overfitting\n",
    "# The output of the convolutional and pooling layers is a 3D tensor;\n",
    "# The Flatten() layer takes 3D tensor (height, width, channels) and reshapes it into a 1D array;\n",
    "# The output of the convolutional and pooling layers is a 3D tensor;\n",
    "# 1D array is required by the fully connected (dense) layers;\n",
    "# Flatten() later enables the transition from the convolutional and pooling layers to the fully conn\n",
    "# For example 3D (8*8*64) becomes 4096 (8*8*64) after flatenning\n",
    "model = Sequential()\n",
    "model.add(Conv2D(filters=32,kernel_size=(3,3),input_shape=(28,28,1),activation = 'relu',padding = 'same'))\n",
    "#model.add(Conv2D(filters=32,kernel_size=(3,3),input_shape=(32,32,3),activation = 'relu',padding = 'valid')\n",
    "model.add(MaxPooling2D(pool_size=(2,2)))\n",
    "model.add(Conv2D(filters=64,kernel_size=(3,3),activation = 'relu'))\n",
    "model.add(MaxPooling2D(pool_size=(2,2)))\n",
    "model.add(Conv2D(filters=128,kernel_size=(3,3),activation = 'relu'))\n",
    "model.add(MaxPooling2D(pool_size=(2,2)))\n",
    "#model.add(BatchNormalization())\n",
    "model.add(Flatten())\n",
    "model.add(Dense(128,activation = 'relu'))\n",
    "model.add(Dropout(0.5))\n",
    "model.add(Dense(10,activation = 'softmax'))"
   ]
  },
  {
   "cell_type": "code",
   "execution_count": 159,
   "id": "ec1e688d",
   "metadata": {},
   "outputs": [],
   "source": [
    "# Compile the model with categorical cross-entropy loss and SGD optimizer\n",
    "#categorical_crossentropy - loss function during model training\n",
    "#accuracy - Evaluation measure\n",
    "#SGD - Stochastic Gradient Descent\n",
    "# learning_rate=0.001 specifies the step size of the updates to the weights during training.\n",
    "# momentum=0.9 is a parameter that helps the optimizer to accelerate in the direction of the gradient an\n",
    "# Higher values of momentum allow the optimizer to move more smoothly towards the global minimum\n",
    "# and reduce the chance of getting stuck in local minima.\n",
    "model.compile(optimizer=SGD(learning_rate=0.001, momentum=0.9), loss='categorical_crossentropy', metrics=['accuracy'])\n"
   ]
  },
  {
   "cell_type": "code",
   "execution_count": 156,
   "id": "c5d440a8",
   "metadata": {},
   "outputs": [
    {
     "name": "stdout",
     "output_type": "stream",
     "text": [
      "Epoch 1/20\n",
      "2143/2143 [==============================] - 27s 13ms/step - loss: 0.6894 - accuracy: 0.7818 - val_loss: 0.1209 - val_accuracy: 0.9620\n",
      "Epoch 2/20\n",
      "2143/2143 [==============================] - 43s 20ms/step - loss: 0.1825 - accuracy: 0.9459 - val_loss: 0.0819 - val_accuracy: 0.9754\n",
      "Epoch 3/20\n",
      "2143/2143 [==============================] - 41s 19ms/step - loss: 0.1361 - accuracy: 0.9609 - val_loss: 0.0603 - val_accuracy: 0.9786\n",
      "Epoch 4/20\n",
      "2143/2143 [==============================] - 45s 21ms/step - loss: 0.1089 - accuracy: 0.9676 - val_loss: 0.0523 - val_accuracy: 0.9831\n",
      "Epoch 5/20\n",
      "2143/2143 [==============================] - 41s 19ms/step - loss: 0.0933 - accuracy: 0.9722 - val_loss: 0.0442 - val_accuracy: 0.9849\n",
      "Epoch 6/20\n",
      "2143/2143 [==============================] - 39s 18ms/step - loss: 0.0806 - accuracy: 0.9763 - val_loss: 0.0400 - val_accuracy: 0.9868\n",
      "Epoch 7/20\n",
      "2143/2143 [==============================] - 41s 19ms/step - loss: 0.0740 - accuracy: 0.9785 - val_loss: 0.0392 - val_accuracy: 0.9872\n",
      "Epoch 8/20\n",
      "2143/2143 [==============================] - 41s 19ms/step - loss: 0.0681 - accuracy: 0.9798 - val_loss: 0.0338 - val_accuracy: 0.9884\n",
      "Epoch 9/20\n",
      "2143/2143 [==============================] - 40s 19ms/step - loss: 0.0610 - accuracy: 0.9814 - val_loss: 0.0342 - val_accuracy: 0.9882\n",
      "Epoch 10/20\n",
      "2143/2143 [==============================] - 44s 21ms/step - loss: 0.0565 - accuracy: 0.9831 - val_loss: 0.0391 - val_accuracy: 0.9856\n",
      "Epoch 11/20\n",
      "2143/2143 [==============================] - 48s 22ms/step - loss: 0.0506 - accuracy: 0.9851 - val_loss: 0.0332 - val_accuracy: 0.9885\n",
      "Epoch 12/20\n",
      "2143/2143 [==============================] - 53s 25ms/step - loss: 0.0483 - accuracy: 0.9849 - val_loss: 0.0314 - val_accuracy: 0.9895\n",
      "Epoch 13/20\n",
      "2143/2143 [==============================] - 51s 24ms/step - loss: 0.0458 - accuracy: 0.9867 - val_loss: 0.0280 - val_accuracy: 0.9902\n",
      "Epoch 14/20\n",
      "2143/2143 [==============================] - 45s 21ms/step - loss: 0.0427 - accuracy: 0.9875 - val_loss: 0.0292 - val_accuracy: 0.9897\n",
      "Epoch 15/20\n",
      "2143/2143 [==============================] - 44s 21ms/step - loss: 0.0406 - accuracy: 0.9878 - val_loss: 0.0294 - val_accuracy: 0.9891\n",
      "Epoch 16/20\n",
      "2143/2143 [==============================] - 46s 21ms/step - loss: 0.0378 - accuracy: 0.9888 - val_loss: 0.0284 - val_accuracy: 0.9896\n",
      "Epoch 17/20\n",
      "2143/2143 [==============================] - 45s 21ms/step - loss: 0.0359 - accuracy: 0.9891 - val_loss: 0.0277 - val_accuracy: 0.9909\n",
      "Epoch 18/20\n",
      "2143/2143 [==============================] - 46s 22ms/step - loss: 0.0342 - accuracy: 0.9898 - val_loss: 0.0288 - val_accuracy: 0.9904\n",
      "Epoch 19/20\n",
      "2143/2143 [==============================] - 46s 21ms/step - loss: 0.0317 - accuracy: 0.9901 - val_loss: 0.0407 - val_accuracy: 0.9876\n",
      "Epoch 20/20\n",
      "2143/2143 [==============================] - 46s 22ms/step - loss: 0.0308 - accuracy: 0.9906 - val_loss: 0.0260 - val_accuracy: 0.9912\n"
     ]
    }
   ],
   "source": [
    " #Train the model with 20 epochs and batch size of 28\n",
    "# to_categorical () converts integer class labels into one-hot encoded vectors;\n",
    "# also used to convert predicted scores back into class labels for evaluation in classification problems\n",
    "# batch_size=32: the training dataset is put into mini-batches of size 32.\n",
    "#epochs=20: The model will be trained for 20 epochs;\n",
    "#This means the dataset will be passed through the model 20 times for training.\n",
    "history=model.fit(x_train, keras.utils.to_categorical(y_train), batch_size=28, epochs=20, \n",
    "                  validation_data=(x_test, keras.utils.to_categorical(y_test)))"
   ]
  },
  {
   "cell_type": "code",
   "execution_count": 157,
   "id": "7e6622eb",
   "metadata": {},
   "outputs": [
    {
     "data": {
      "image/png": "[encoded data removed]",
      "text/plain": [
       "<Figure size 432x288 with 1 Axes>"
      ]
     },
     "metadata": {
      "needs_background": "light"
     },
     "output_type": "display_data"
    }
   ],
   "source": [
    "## checking for overfitting\n",
    "# Plot training loss against validation loss\n",
    "#Plots the training loss as a line with label \"Training Loss\".\n",
    "plt.plot(history.history['loss'], label='Training Loss')\n",
    "#Plots the validation loss as a line with label \"Validation Loss\".\n",
    "plt.plot(history.history['val_loss'], label='Validation Loss')\n",
    "#Sets the title of the plot to \"Training and Validation Loss\".\n",
    "plt.title('Training and Validation Loss')\n",
    "#Sets the label of the x-axis to \"Epochs\".\n",
    "plt.xlabel('Epochs')\n",
    "#Sets the label of the y-axis to \"Loss\".\n",
    "plt.ylabel('Loss')\n",
    "#Shows the legend of the plot with the labels of the two lines.\n",
    "plt.legend()\n",
    "#Shows the plot on the screen.\n",
    "plt.show()\n"
   ]
  },
  {
   "cell_type": "markdown",
   "id": "b909950d",
   "metadata": {},
   "source": [
    "### Use of Dropout and Early Stopping Regularization "
   ]
  },
  {
   "cell_type": "code",
   "execution_count": 160,
   "id": "8aa13574",
   "metadata": {},
   "outputs": [],
   "source": [
    "from tensorflow.keras.callbacks import EarlyStopping\n",
    "early_stopping = EarlyStopping()"
   ]
  },
  {
   "cell_type": "code",
   "execution_count": 161,
   "id": "946a78ee",
   "metadata": {},
   "outputs": [],
   "source": [
    "custom_early_stopping = EarlyStopping(\n",
    "    monitor='val_accuracy', \n",
    "    patience=3, \n",
    "    min_delta=0.001, \n",
    "    mode='max'\n",
    ")"
   ]
  },
  {
   "cell_type": "code",
   "execution_count": 162,
   "id": "c68eb7a5",
   "metadata": {},
   "outputs": [
    {
     "name": "stdout",
     "output_type": "stream",
     "text": [
      "Epoch 1/20\n",
      "2143/2143 [==============================] - 47s 21ms/step - loss: 0.7108 - accuracy: 0.7735 - val_loss: 0.1273 - val_accuracy: 0.9578\n",
      "Epoch 2/20\n",
      "2143/2143 [==============================] - 45s 21ms/step - loss: 0.1824 - accuracy: 0.9448 - val_loss: 0.0813 - val_accuracy: 0.9729\n",
      "Epoch 3/20\n",
      "2143/2143 [==============================] - 43s 20ms/step - loss: 0.1337 - accuracy: 0.9598 - val_loss: 0.0673 - val_accuracy: 0.9789\n",
      "Epoch 4/20\n",
      "2143/2143 [==============================] - 44s 20ms/step - loss: 0.1085 - accuracy: 0.9674 - val_loss: 0.0541 - val_accuracy: 0.9830\n",
      "Epoch 5/20\n",
      "2143/2143 [==============================] - 43s 20ms/step - loss: 0.0912 - accuracy: 0.9730 - val_loss: 0.0503 - val_accuracy: 0.9843\n",
      "Epoch 6/20\n",
      "2143/2143 [==============================] - 49s 23ms/step - loss: 0.0797 - accuracy: 0.9755 - val_loss: 0.0454 - val_accuracy: 0.9855\n",
      "Epoch 7/20\n",
      "2143/2143 [==============================] - 48s 23ms/step - loss: 0.0703 - accuracy: 0.9788 - val_loss: 0.0412 - val_accuracy: 0.9862\n",
      "Epoch 8/20\n",
      "2143/2143 [==============================] - 47s 22ms/step - loss: 0.0655 - accuracy: 0.9800 - val_loss: 0.0399 - val_accuracy: 0.9866\n",
      "Epoch 9/20\n",
      "2143/2143 [==============================] - 48s 22ms/step - loss: 0.0593 - accuracy: 0.9825 - val_loss: 0.0417 - val_accuracy: 0.9861\n",
      "Epoch 10/20\n",
      "2143/2143 [==============================] - 49s 23ms/step - loss: 0.0561 - accuracy: 0.9830 - val_loss: 0.0356 - val_accuracy: 0.9884\n",
      "Epoch 11/20\n",
      "2143/2143 [==============================] - 49s 23ms/step - loss: 0.0528 - accuracy: 0.9843 - val_loss: 0.0320 - val_accuracy: 0.9894\n",
      "Epoch 12/20\n",
      "2143/2143 [==============================] - 50s 23ms/step - loss: 0.0502 - accuracy: 0.9850 - val_loss: 0.0344 - val_accuracy: 0.9884\n",
      "Epoch 13/20\n",
      "2143/2143 [==============================] - 49s 23ms/step - loss: 0.0459 - accuracy: 0.9865 - val_loss: 0.0366 - val_accuracy: 0.9871\n",
      "Epoch 14/20\n",
      "2143/2143 [==============================] - 48s 22ms/step - loss: 0.0444 - accuracy: 0.9860 - val_loss: 0.0295 - val_accuracy: 0.9901\n"
     ]
    }
   ],
   "source": [
    "history=model.fit(x_train, keras.utils.to_categorical(y_train), batch_size=28, epochs=20, \n",
    "                  validation_data=(x_test, keras.utils.to_categorical(y_test)), callbacks=[custom_early_stopping])"
   ]
  },
  {
   "cell_type": "code",
   "execution_count": 163,
   "id": "99fc6949",
   "metadata": {},
   "outputs": [
    {
     "data": {
      "image/png": "[encoded data removed]",
      "text/plain": [
       "<Figure size 432x288 with 1 Axes>"
      ]
     },
     "metadata": {
      "needs_background": "light"
     },
     "output_type": "display_data"
    }
   ],
   "source": [
    "## checking for overfitting\n",
    "# Plot training loss against validation loss\n",
    "#Plots the training loss as a line with label \"Training Loss\".\n",
    "plt.plot(history.history['loss'], label='Training Loss')\n",
    "#Plots the validation loss as a line with label \"Validation Loss\".\n",
    "plt.plot(history.history['val_loss'], label='Validation Loss')\n",
    "#Sets the title of the plot to \"Training and Validation Loss\".\n",
    "plt.title('Training and Validation Loss')\n",
    "#Sets the label of the x-axis to \"Epochs\".\n",
    "plt.xlabel('Epochs')\n",
    "#Sets the label of the y-axis to \"Loss\".\n",
    "plt.ylabel('Loss')\n",
    "#Shows the legend of the plot with the labels of the two lines.\n",
    "plt.legend()\n",
    "#Shows the plot on the screen.\n",
    "plt.show()\n"
   ]
  },
  {
   "cell_type": "markdown",
   "id": "4c911444",
   "metadata": {},
   "source": [
    "### Effect of Using L1/L2 Regularization Method"
   ]
  },
  {
   "cell_type": "code",
   "execution_count": 169,
   "id": "0aa91cd5",
   "metadata": {},
   "outputs": [],
   "source": [
    "# Define the CNN architecture\n",
    "# Conv2D(filters=32,kernel_size=(3, 3) means use 32 filters (also called kernels) of size 3x3\n",
    "# input_shape=(32, 32, 3) means the input data is a 3D tensor with dimensions 32x32x3.(height x width x\n",
    "# The first dimension of the tensor (32) is the height of the image.\n",
    "#The second dimension of the tensor (32) is the width of the image.\n",
    "#The third dimension of the tensor (3) is the number of channels in the image (Red, Green, Blue colo\n",
    "# The MaxPooling2D(2, 2) performs a pooling operation where the (2,2) argument indicates the size of the\n",
    "# It reduces the spatial size of the feature maps and prevent overfitting\n",
    "# The output of the convolutional and pooling layers is a 3D tensor;\n",
    "# The Flatten() layer takes 3D tensor (height, width, channels) and reshapes it into a 1D array;\n",
    "# The output of the convolutional and pooling layers is a 3D tensor;\n",
    "# 1D array is required by the fully connected (dense) layers;\n",
    "# Flatten() later enables the transition from the convolutional and pooling layers to the fully conn\n",
    "# For example 3D (8*8*64) becomes 4096 (8*8*64) after flatenning\n",
    "from tensorflow.keras import regularizers\n",
    "model = Sequential()\n",
    "#model.add(Conv2D(filters=32,kernel_size=(3,3),input_shape=(28,28,1),activation = 'relu',padding = 'same'))\n",
    "#model.add(Conv2D(filters=32,kernel_size=(3,3),input_shape=(32,32,3),activation = 'relu',padding = 'valid')\n",
    "model.add(Conv2D(filters=32, kernel_size=(3, 3), kernel_regularizer=regularizers.L1L2(l1=0.02, l2=0.05),\\\n",
    "       input_shape=(28,28,1),activation = 'relu',padding = 'same'))\n",
    "model.add(MaxPooling2D(pool_size=(2,2)))\n",
    "model.add(Conv2D(filters=64,kernel_size=(3,3), kernel_regularizer=regularizers.L1L2(l1=0.02, l2=0.05), activation = 'relu'))\n",
    "model.add(MaxPooling2D(pool_size=(2,2)))\n",
    "model.add(Conv2D(filters=128,kernel_size=(3,3), kernel_regularizer=regularizers.L1L2(l1=0.02, l2=0.05), activation = 'relu'))\n",
    "model.add(MaxPooling2D(pool_size=(2,2)))\n",
    "#model.add(BatchNormalization())\n",
    "model.add(Flatten())\n",
    "model.add(Dense(128,activation = 'relu'))\n",
    "model.add(Dense(10,activation = 'softmax'))"
   ]
  },
  {
   "cell_type": "code",
   "execution_count": 170,
   "id": "9f208d7f",
   "metadata": {},
   "outputs": [
    {
     "name": "stdout",
     "output_type": "stream",
     "text": [
      "Model: \"sequential_21\"\n",
      "_________________________________________________________________\n",
      " Layer (type)                Output Shape              Param #   \n",
      "=================================================================\n",
      " conv2d_59 (Conv2D)          (None, 28, 28, 32)        320       \n",
      "                                                                 \n",
      " max_pooling2d_54 (MaxPoolin  (None, 14, 14, 32)       0         \n",
      " g2D)                                                            \n",
      "                                                                 \n",
      " conv2d_60 (Conv2D)          (None, 12, 12, 64)        18496     \n",
      "                                                                 \n",
      " max_pooling2d_55 (MaxPoolin  (None, 6, 6, 64)         0         \n",
      " g2D)                                                            \n",
      "                                                                 \n",
      " conv2d_61 (Conv2D)          (None, 4, 4, 128)         73856     \n",
      "                                                                 \n",
      " max_pooling2d_56 (MaxPoolin  (None, 2, 2, 128)        0         \n",
      " g2D)                                                            \n",
      "                                                                 \n",
      " flatten_18 (Flatten)        (None, 512)               0         \n",
      "                                                                 \n",
      " dense_34 (Dense)            (None, 128)               65664     \n",
      "                                                                 \n",
      " dense_35 (Dense)            (None, 10)                1290      \n",
      "                                                                 \n",
      "=================================================================\n",
      "Total params: 159,626\n",
      "Trainable params: 159,626\n",
      "Non-trainable params: 0\n",
      "_________________________________________________________________\n"
     ]
    }
   ],
   "source": [
    "# print the summary of the model constructed\n",
    "model.summary()\n"
   ]
  },
  {
   "cell_type": "code",
   "execution_count": 171,
   "id": "934cab5c",
   "metadata": {},
   "outputs": [],
   "source": [
    "# Compile the model with categorical cross-entropy loss and SGD optimizer\n",
    "#categorical_crossentropy - loss function during model training\n",
    "#accuracy - Evaluation measure\n",
    "#SGD - Stochastic Gradient Descent\n",
    "# learning_rate=0.001 specifies the step size of the updates to the weights during training.\n",
    "# momentum=0.9 is a parameter that helps the optimizer to accelerate in the direction of the gradient an\n",
    "# Higher values of momentum allow the optimizer to move more smoothly towards the global minimum\n",
    "# and reduce the chance of getting stuck in local minima.\n",
    "model.compile(optimizer=SGD(learning_rate=0.001, momentum=0.9), loss='categorical_crossentropy', metrics=['accuracy'])\n"
   ]
  },
  {
   "cell_type": "code",
   "execution_count": 172,
   "id": "63872ff4",
   "metadata": {},
   "outputs": [
    {
     "name": "stdout",
     "output_type": "stream",
     "text": [
      "Epoch 1/20\n",
      "2143/2143 [==============================] - 47s 22ms/step - loss: 5.4279 - accuracy: 0.1213 - val_loss: 2.3430 - val_accuracy: 0.1135\n",
      "Epoch 2/20\n",
      "2143/2143 [==============================] - 43s 20ms/step - loss: 2.3438 - accuracy: 0.1124 - val_loss: 2.3439 - val_accuracy: 0.1135\n",
      "Epoch 3/20\n",
      "2143/2143 [==============================] - 44s 20ms/step - loss: 2.3448 - accuracy: 0.1124 - val_loss: 2.3449 - val_accuracy: 0.1135\n",
      "Epoch 4/20\n",
      "2143/2143 [==============================] - 44s 21ms/step - loss: 2.3450 - accuracy: 0.1124 - val_loss: 2.3448 - val_accuracy: 0.1135\n",
      "Epoch 5/20\n",
      "2143/2143 [==============================] - 46s 21ms/step - loss: 2.3451 - accuracy: 0.1124 - val_loss: 2.3449 - val_accuracy: 0.1135\n",
      "Epoch 6/20\n",
      "2143/2143 [==============================] - 45s 21ms/step - loss: 2.3451 - accuracy: 0.1124 - val_loss: 2.3450 - val_accuracy: 0.1135\n",
      "Epoch 7/20\n",
      "2143/2143 [==============================] - 42s 20ms/step - loss: 2.3452 - accuracy: 0.1124 - val_loss: 2.3448 - val_accuracy: 0.1135\n",
      "Epoch 8/20\n",
      "2143/2143 [==============================] - 42s 20ms/step - loss: 2.3452 - accuracy: 0.1124 - val_loss: 2.3451 - val_accuracy: 0.1135\n",
      "Epoch 9/20\n",
      "2143/2143 [==============================] - 43s 20ms/step - loss: 2.3452 - accuracy: 0.1124 - val_loss: 2.3448 - val_accuracy: 0.1135\n",
      "Epoch 10/20\n",
      "2143/2143 [==============================] - 43s 20ms/step - loss: 2.3452 - accuracy: 0.1124 - val_loss: 2.3449 - val_accuracy: 0.1135\n",
      "Epoch 11/20\n",
      "2143/2143 [==============================] - 47s 22ms/step - loss: 2.3452 - accuracy: 0.1124 - val_loss: 2.3451 - val_accuracy: 0.1135\n",
      "Epoch 12/20\n",
      "2143/2143 [==============================] - 49s 23ms/step - loss: 2.3453 - accuracy: 0.1124 - val_loss: 2.3450 - val_accuracy: 0.1135\n",
      "Epoch 13/20\n",
      "2143/2143 [==============================] - 45s 21ms/step - loss: 2.3452 - accuracy: 0.1124 - val_loss: 2.3448 - val_accuracy: 0.1135\n",
      "Epoch 14/20\n",
      "2143/2143 [==============================] - 44s 21ms/step - loss: 2.3453 - accuracy: 0.1124 - val_loss: 2.3449 - val_accuracy: 0.1135\n",
      "Epoch 15/20\n",
      "2143/2143 [==============================] - 46s 21ms/step - loss: 2.3452 - accuracy: 0.1124 - val_loss: 2.3450 - val_accuracy: 0.1135\n",
      "Epoch 16/20\n",
      "2143/2143 [==============================] - 45s 21ms/step - loss: 2.3452 - accuracy: 0.1124 - val_loss: 2.3452 - val_accuracy: 0.1135\n",
      "Epoch 17/20\n",
      "2143/2143 [==============================] - 44s 21ms/step - loss: 2.3453 - accuracy: 0.1124 - val_loss: 2.3450 - val_accuracy: 0.1135\n",
      "Epoch 18/20\n",
      "2143/2143 [==============================] - 42s 20ms/step - loss: 2.3453 - accuracy: 0.1124 - val_loss: 2.3450 - val_accuracy: 0.1135\n",
      "Epoch 19/20\n",
      "2143/2143 [==============================] - 42s 20ms/step - loss: 2.3453 - accuracy: 0.1124 - val_loss: 2.3448 - val_accuracy: 0.1135\n",
      "Epoch 20/20\n",
      "2143/2143 [==============================] - 46s 21ms/step - loss: 2.3453 - accuracy: 0.1124 - val_loss: 2.3451 - val_accuracy: 0.1135\n"
     ]
    }
   ],
   "source": [
    "history=model.fit(x_train, keras.utils.to_categorical(y_train), batch_size=28, epochs=20, \n",
    "                  validation_data=(x_test, keras.utils.to_categorical(y_test)))"
   ]
  },
  {
   "cell_type": "code",
   "execution_count": 173,
   "id": "80205746",
   "metadata": {},
   "outputs": [
    {
     "data": {
      "image/png": "[encoded data removed]",
      "text/plain": [
       "<Figure size 432x288 with 1 Axes>"
      ]
     },
     "metadata": {
      "needs_background": "light"
     },
     "output_type": "display_data"
    }
   ],
   "source": [
    "## checking for overfitting\n",
    "# Plot training loss against validation loss\n",
    "#Plots the training loss as a line with label \"Training Loss\".\n",
    "plt.plot(history.history['loss'], label='Training Loss')\n",
    "#Plots the validation loss as a line with label \"Validation Loss\".\n",
    "plt.plot(history.history['val_loss'], label='Validation Loss')\n",
    "#Sets the title of the plot to \"Training and Validation Loss\".\n",
    "plt.title('Training and Validation Loss Using L/L2 Regularization')\n",
    "#Sets the label of the x-axis to \"Epochs\".\n",
    "plt.xlabel('Epochs')\n",
    "#Sets the label of the y-axis to \"Loss\".\n",
    "plt.ylabel('Loss')\n",
    "#Shows the legend of the plot with the labels of the two lines.\n",
    "plt.legend()\n",
    "#Shows the plot on the screen.\n",
    "plt.show()\n"
   ]
  },
  {
   "cell_type": "code",
   "execution_count": null,
   "id": "9adf44c0",
   "metadata": {},
   "outputs": [],
   "source": []
  },
  {
   "cell_type": "markdown",
   "id": "b61cc86b",
   "metadata": {},
   "source": [
    "### Use Batch Normalization as Regularizer"
   ]
  },
  {
   "cell_type": "code",
   "execution_count": 207,
   "id": "4657bf00",
   "metadata": {},
   "outputs": [],
   "source": [
    "# Define the CNN architecture\n",
    "# Conv2D(filters=32,kernel_size=(3, 3) means use 32 filters (also called kernels) of size 3x3\n",
    "# input_shape=(32, 32, 3) means the input data is a 3D tensor with dimensions 32x32x3.(height x width x\n",
    "# The first dimension of the tensor (32) is the height of the image.\n",
    "#The second dimension of the tensor (32) is the width of the image.\n",
    "#The third dimension of the tensor (3) is the number of channels in the image (Red, Green, Blue colo\n",
    "# The MaxPooling2D(2, 2) performs a pooling operation where the (2,2) argument indicates the size of the\n",
    "# It reduces the spatial size of the feature maps and prevent overfitting\n",
    "# The output of the convolutional and pooling layers is a 3D tensor;\n",
    "# The Flatten() layer takes 3D tensor (height, width, channels) and reshapes it into a 1D array;\n",
    "# The output of the convolutional and pooling layers is a 3D tensor;\n",
    "# 1D array is required by the fully connected (dense) layers;\n",
    "# Flatten() later enables the transition from the convolutional and pooling layers to the fully conn\n",
    "# For example 3D (8*8*64) becomes 4096 (8*8*64) after flatenning\n",
    "model = Sequential()\n",
    "model.add(Conv2D(filters=32,kernel_size=(3,3),input_shape=(28,28,1),activation = 'relu',padding = 'same'))\n",
    "#model.add(Conv2D(filters=32,kernel_size=(3,3),input_shape=(32,32,3),activation = 'relu',padding = 'valid')\n",
    "model.add(MaxPooling2D(pool_size=(2,2)))\n",
    "model.add(Conv2D(filters=64,kernel_size=(3,3),activation = 'relu'))\n",
    "model.add(MaxPooling2D(pool_size=(2,2)))\n",
    "model.add(Conv2D(filters=128,kernel_size=(3,3),activation = 'relu'))\n",
    "model.add(MaxPooling2D(pool_size=(2,2)))\n",
    "model.add(BatchNormalization())\n",
    "model.add(Flatten())\n",
    "model.add(Dense(128,activation = 'relu'))\n",
    "#model.add(Dropout(0.5))\n",
    "model.add(Dense(10,activation = 'softmax'))\n"
   ]
  },
  {
   "cell_type": "code",
   "execution_count": 208,
   "id": "6942a9b6",
   "metadata": {},
   "outputs": [
    {
     "name": "stdout",
     "output_type": "stream",
     "text": [
      "Model: \"sequential_38\"\n",
      "_________________________________________________________________\n",
      " Layer (type)                Output Shape              Param #   \n",
      "=================================================================\n",
      " conv2d_122 (Conv2D)         (None, 28, 28, 32)        320       \n",
      "                                                                 \n",
      " max_pooling2d_108 (MaxPooli  (None, 14, 14, 32)       0         \n",
      " ng2D)                                                           \n",
      "                                                                 \n",
      " conv2d_123 (Conv2D)         (None, 12, 12, 64)        18496     \n",
      "                                                                 \n",
      " max_pooling2d_109 (MaxPooli  (None, 6, 6, 64)         0         \n",
      " ng2D)                                                           \n",
      "                                                                 \n",
      " conv2d_124 (Conv2D)         (None, 4, 4, 128)         73856     \n",
      "                                                                 \n",
      " max_pooling2d_110 (MaxPooli  (None, 2, 2, 128)        0         \n",
      " ng2D)                                                           \n",
      "                                                                 \n",
      " batch_normalization_4 (Batc  (None, 2, 2, 128)        512       \n",
      " hNormalization)                                                 \n",
      "                                                                 \n",
      " flatten_22 (Flatten)        (None, 512)               0         \n",
      "                                                                 \n",
      " dense_42 (Dense)            (None, 128)               65664     \n",
      "                                                                 \n",
      " dense_43 (Dense)            (None, 10)                1290      \n",
      "                                                                 \n",
      "=================================================================\n",
      "Total params: 160,138\n",
      "Trainable params: 159,882\n",
      "Non-trainable params: 256\n",
      "_________________________________________________________________\n"
     ]
    }
   ],
   "source": [
    "# print the summary of the model constructed\n",
    "model.summary()\n"
   ]
  },
  {
   "cell_type": "code",
   "execution_count": 209,
   "id": "9f6cff60",
   "metadata": {},
   "outputs": [],
   "source": [
    "# Compile the model with categorical cross-entropy loss and SGD optimizer\n",
    "#categorical_crossentropy - loss function during model training\n",
    "#accuracy - Evaluation measure\n",
    "#SGD - Stochastic Gradient Descent\n",
    "# learning_rate=0.001 specifies the step size of the updates to the weights during training.\n",
    "# momentum=0.9 is a parameter that helps the optimizer to accelerate in the direction of the gradient an\n",
    "# Higher values of momentum allow the optimizer to move more smoothly towards the global minimum\n",
    "# and reduce the chance of getting stuck in local minima.\n",
    "model.compile(optimizer=SGD(learning_rate=0.001, momentum=0.9), loss='categorical_crossentropy', metrics=['accuracy'])\n"
   ]
  },
  {
   "cell_type": "code",
   "execution_count": 210,
   "id": "9b2008e3",
   "metadata": {},
   "outputs": [
    {
     "name": "stdout",
     "output_type": "stream",
     "text": [
      "Epoch 1/20\n",
      "2143/2143 [==============================] - 33s 15ms/step - loss: 0.1494 - accuracy: 0.9579 - val_loss: 0.0516 - val_accuracy: 0.9847\n",
      "Epoch 2/20\n",
      "2143/2143 [==============================] - 46s 22ms/step - loss: 0.0491 - accuracy: 0.9855 - val_loss: 0.0384 - val_accuracy: 0.9886\n",
      "Epoch 3/20\n",
      "2143/2143 [==============================] - 43s 20ms/step - loss: 0.0342 - accuracy: 0.9899 - val_loss: 0.0316 - val_accuracy: 0.9902\n",
      "Epoch 4/20\n",
      "2143/2143 [==============================] - 42s 19ms/step - loss: 0.0264 - accuracy: 0.9925 - val_loss: 0.0288 - val_accuracy: 0.9900\n",
      "Epoch 5/20\n",
      "2143/2143 [==============================] - 50s 23ms/step - loss: 0.0212 - accuracy: 0.9941 - val_loss: 0.0261 - val_accuracy: 0.9912\n",
      "Epoch 6/20\n",
      "2143/2143 [==============================] - 48s 22ms/step - loss: 0.0171 - accuracy: 0.9957 - val_loss: 0.0292 - val_accuracy: 0.9902\n",
      "Epoch 7/20\n",
      "2143/2143 [==============================] - 44s 20ms/step - loss: 0.0147 - accuracy: 0.9963 - val_loss: 0.0229 - val_accuracy: 0.9916\n",
      "Epoch 8/20\n",
      "2143/2143 [==============================] - 55s 26ms/step - loss: 0.0119 - accuracy: 0.9971 - val_loss: 0.0235 - val_accuracy: 0.9911\n",
      "Epoch 9/20\n",
      "2143/2143 [==============================] - 54s 25ms/step - loss: 0.0096 - accuracy: 0.9978 - val_loss: 0.0239 - val_accuracy: 0.9920\n",
      "Epoch 10/20\n",
      "2143/2143 [==============================] - 57s 27ms/step - loss: 0.0084 - accuracy: 0.9982 - val_loss: 0.0261 - val_accuracy: 0.9917\n",
      "Epoch 11/20\n",
      "2143/2143 [==============================] - 45s 21ms/step - loss: 0.0070 - accuracy: 0.9987 - val_loss: 0.0258 - val_accuracy: 0.9913\n",
      "Epoch 12/20\n",
      "2143/2143 [==============================] - 43s 20ms/step - loss: 0.0057 - accuracy: 0.9990 - val_loss: 0.0254 - val_accuracy: 0.9921\n",
      "Epoch 13/20\n",
      "2143/2143 [==============================] - 46s 22ms/step - loss: 0.0048 - accuracy: 0.9994 - val_loss: 0.0251 - val_accuracy: 0.9915\n",
      "Epoch 14/20\n",
      "2143/2143 [==============================] - 43s 20ms/step - loss: 0.0042 - accuracy: 0.9994 - val_loss: 0.0239 - val_accuracy: 0.9922\n",
      "Epoch 15/20\n",
      "2143/2143 [==============================] - 43s 20ms/step - loss: 0.0037 - accuracy: 0.9995 - val_loss: 0.0242 - val_accuracy: 0.9921\n",
      "Epoch 16/20\n",
      "2143/2143 [==============================] - 40s 19ms/step - loss: 0.0030 - accuracy: 0.9998 - val_loss: 0.0237 - val_accuracy: 0.9926\n",
      "Epoch 17/20\n",
      "2143/2143 [==============================] - 40s 19ms/step - loss: 0.0026 - accuracy: 0.9999 - val_loss: 0.0231 - val_accuracy: 0.9924\n",
      "Epoch 18/20\n",
      "2143/2143 [==============================] - 42s 20ms/step - loss: 0.0023 - accuracy: 0.9998 - val_loss: 0.0224 - val_accuracy: 0.9923\n",
      "Epoch 19/20\n",
      "2143/2143 [==============================] - 41s 19ms/step - loss: 0.0022 - accuracy: 0.9999 - val_loss: 0.0239 - val_accuracy: 0.9921\n",
      "Epoch 20/20\n",
      "2143/2143 [==============================] - 40s 19ms/step - loss: 0.0019 - accuracy: 0.9999 - val_loss: 0.0229 - val_accuracy: 0.9920\n"
     ]
    }
   ],
   "source": [
    "history=model.fit(x_train, keras.utils.to_categorical(y_train), batch_size=28, epochs=20, \n",
    "                  validation_data=(x_test, keras.utils.to_categorical(y_test)))"
   ]
  },
  {
   "cell_type": "code",
   "execution_count": 211,
   "id": "79b57976",
   "metadata": {},
   "outputs": [
    {
     "data": {
      "image/png": "[encoded data removed]",
      "text/plain": [
       "<Figure size 432x288 with 1 Axes>"
      ]
     },
     "metadata": {
      "needs_background": "light"
     },
     "output_type": "display_data"
    }
   ],
   "source": [
    "## checking for overfitting\n",
    "# Plot training loss against validation loss\n",
    "#Plots the training loss as a line with label \"Training Loss\".\n",
    "plt.plot(history.history['loss'], label='Training Loss')\n",
    "#Plots the validation loss as a line with label \"Validation Loss\".\n",
    "plt.plot(history.history['val_loss'], label='Validation Loss')\n",
    "#Sets the title of the plot to \"Training and Validation Loss\".\n",
    "plt.title('Training and Validation Loss')\n",
    "#Sets the label of the x-axis to \"Epochs\".\n",
    "plt.xlabel('Epochs')\n",
    "#Sets the label of the y-axis to \"Loss\".\n",
    "plt.ylabel('Loss')\n",
    "#Shows the legend of the plot with the labels of the two lines.\n",
    "plt.legend()\n",
    "#Shows the plot on the screen.\n",
    "plt.show()\n"
   ]
  },
  {
   "cell_type": "code",
   "execution_count": 124,
   "id": "f922d2d6",
   "metadata": {
    "scrolled": true
   },
   "outputs": [
    {
     "data": {
      "image/png": "[encoded data removed]",
      "text/plain": [
       "<Figure size 432x288 with 1 Axes>"
      ]
     },
     "metadata": {
      "needs_background": "light"
     },
     "output_type": "display_data"
    }
   ],
   "source": [
    "# Plot training and validation accuracy\n",
    "#Plots the training accuracy as a line with label \"Training Accuracy\".\n",
    "plt.plot(history.history['accuracy'], label='Training Accuracy')\n",
    "#Plots the validation accuracy as a line with label \"Validation Accuracy\".\n",
    "plt.plot(history.history['val_accuracy'], label='Validation Accuracy')\n",
    "#Sets the title of the plot to \"Training and Validation Accuracy\".\n",
    "plt.title('Training and Validation Accuracy')\n",
    "#Sets the label of the x-axis to \"Epochs\".\n",
    "plt.xlabel('Epochs')\n",
    "#Sets the label of the y-axis to \"Accuracy\".\n",
    "plt.ylabel('Accuracy')\n",
    "#Shows the legend of the plot with the labels of the two lines.\n",
    "plt.legend()\n",
    "#Shows the plot on the screen.\n",
    "plt.show()\n"
   ]
  },
  {
   "cell_type": "markdown",
   "id": "310c8648",
   "metadata": {},
   "source": [
    "### Adding Additional CNN BLocks and Using Dropout and Early Stopping Regularizer"
   ]
  },
  {
   "cell_type": "code",
   "execution_count": 221,
   "id": "4697e356",
   "metadata": {},
   "outputs": [],
   "source": [
    "# Define the CNN architecture\n",
    "# Conv2D(filters=32,kernel_size=(3, 3) means use 32 filters (also called kernels) of size 3x3\n",
    "# input_shape=(32, 32, 3) means the input data is a 3D tensor with dimensions 32x32x3.(height x width x\n",
    "# The first dimension of the tensor (32) is the height of the image.\n",
    "#The second dimension of the tensor (32) is the width of the image.\n",
    "#The third dimension of the tensor (3) is the number of channels in the image (Red, Green, Blue colo\n",
    "# The MaxPooling2D(2, 2) performs a pooling operation where the (2,2) argument indicates the size of the\n",
    "# It reduces the spatial size of the feature maps and prevent overfitting\n",
    "# The output of the convolutional and pooling layers is a 3D tensor;\n",
    "# The Flatten() layer takes 3D tensor (height, width, channels) and reshapes it into a 1D array;\n",
    "# The output of the convolutional and pooling layers is a 3D tensor;\n",
    "# 1D array is required by the fully connected (dense) layers;\n",
    "# Flatten() later enables the transition from the convolutional and pooling layers to the fully conn\n",
    "# For example 3D (8*8*64) becomes 4096 (8*8*64) after flatenning\n",
    "model = Sequential()\n",
    "model.add(Conv2D(filters=32,kernel_size=(3,3),input_shape=(28,28,1),activation = 'relu', padding = 'same'))\n",
    "#model.add(Conv2D(filters=32,kernel_size=(2,2),input_shape=(28,28,1),activation = 'relu',padding = 'valid'))\n",
    "model.add(MaxPooling2D(pool_size=(2,2)))\n",
    "\n",
    "model.add(Conv2D(filters=64,kernel_size=(3,3),activation = 'relu'))\n",
    "model.add(MaxPooling2D(pool_size=(2,2)))\n",
    "\n",
    "#model.add(Conv2D(filters=128,kernel_size=(3,3),activation = 'relu'))\n",
    "#model.add(MaxPooling2D(pool_size=(2,2)))\n",
    "\n",
    "#model.add(Conv2D(filters=128,kernel_size=(3,3),activation = 'relu'))\n",
    "#model.add(MaxPooling2D(pool_size=(2,2)))\n",
    "\n",
    "#model.add(BatchNormalization())\n",
    "model.add(Flatten())\n",
    "model.add(Dense(128,activation = 'relu'))\n",
    "model.add(Dropout(0.5))\n",
    "model.add(Dense(10,activation = 'softmax'))"
   ]
  },
  {
   "cell_type": "code",
   "execution_count": 222,
   "id": "0d9f0be1",
   "metadata": {},
   "outputs": [
    {
     "name": "stdout",
     "output_type": "stream",
     "text": [
      "Model: \"sequential_48\"\n",
      "_________________________________________________________________\n",
      " Layer (type)                Output Shape              Param #   \n",
      "=================================================================\n",
      " conv2d_160 (Conv2D)         (None, 28, 28, 32)        320       \n",
      "                                                                 \n",
      " max_pooling2d_138 (MaxPooli  (None, 14, 14, 32)       0         \n",
      " ng2D)                                                           \n",
      "                                                                 \n",
      " conv2d_161 (Conv2D)         (None, 12, 12, 64)        18496     \n",
      "                                                                 \n",
      " max_pooling2d_139 (MaxPooli  (None, 6, 6, 64)         0         \n",
      " ng2D)                                                           \n",
      "                                                                 \n",
      " flatten_24 (Flatten)        (None, 2304)              0         \n",
      "                                                                 \n",
      " dense_46 (Dense)            (None, 128)               295040    \n",
      "                                                                 \n",
      " dropout_12 (Dropout)        (None, 128)               0         \n",
      "                                                                 \n",
      " dense_47 (Dense)            (None, 10)                1290      \n",
      "                                                                 \n",
      "=================================================================\n",
      "Total params: 315,146\n",
      "Trainable params: 315,146\n",
      "Non-trainable params: 0\n",
      "_________________________________________________________________\n"
     ]
    }
   ],
   "source": [
    "# print the summary of the model constructed\n",
    "model.summary()\n"
   ]
  },
  {
   "cell_type": "code",
   "execution_count": 223,
   "id": "4019df06",
   "metadata": {},
   "outputs": [],
   "source": [
    "# Compile the model with categorical cross-entropy loss and SGD optimizer\n",
    "#categorical_crossentropy - loss function during model training\n",
    "#accuracy - Evaluation measure\n",
    "#SGD - Stochastic Gradient Descent\n",
    "# learning_rate=0.001 specifies the step size of the updates to the weights during training.\n",
    "# momentum=0.9 is a parameter that helps the optimizer to accelerate in the direction of the gradient an\n",
    "# Higher values of momentum allow the optimizer to move more smoothly towards the global minimum\n",
    "# and reduce the chance of getting stuck in local minima.\n",
    "model.compile(optimizer=SGD(learning_rate=0.001, momentum=0.9), loss='categorical_crossentropy', metrics=['accuracy'])\n"
   ]
  },
  {
   "cell_type": "code",
   "execution_count": 224,
   "id": "0e584509",
   "metadata": {},
   "outputs": [
    {
     "name": "stdout",
     "output_type": "stream",
     "text": [
      "Epoch 1/20\n",
      "2143/2143 [==============================] - 27s 12ms/step - loss: 0.6926 - accuracy: 0.7792 - val_loss: 0.1599 - val_accuracy: 0.9497\n",
      "Epoch 2/20\n",
      "2143/2143 [==============================] - 35s 16ms/step - loss: 0.2108 - accuracy: 0.9373 - val_loss: 0.0940 - val_accuracy: 0.9706\n",
      "Epoch 3/20\n",
      "2143/2143 [==============================] - 35s 16ms/step - loss: 0.1549 - accuracy: 0.9537 - val_loss: 0.0755 - val_accuracy: 0.9752\n",
      "Epoch 4/20\n",
      "2143/2143 [==============================] - 34s 16ms/step - loss: 0.1260 - accuracy: 0.9620 - val_loss: 0.0655 - val_accuracy: 0.9797\n",
      "Epoch 5/20\n",
      "2143/2143 [==============================] - 37s 17ms/step - loss: 0.1091 - accuracy: 0.9668 - val_loss: 0.0574 - val_accuracy: 0.9814\n",
      "Epoch 6/20\n",
      "2143/2143 [==============================] - 38s 18ms/step - loss: 0.0998 - accuracy: 0.9704 - val_loss: 0.0539 - val_accuracy: 0.9838\n",
      "Epoch 7/20\n",
      "2143/2143 [==============================] - 39s 18ms/step - loss: 0.0906 - accuracy: 0.9720 - val_loss: 0.0463 - val_accuracy: 0.9856\n",
      "Epoch 8/20\n",
      "2143/2143 [==============================] - 39s 18ms/step - loss: 0.0825 - accuracy: 0.9742 - val_loss: 0.0432 - val_accuracy: 0.9853\n",
      "Epoch 9/20\n",
      "2143/2143 [==============================] - 36s 17ms/step - loss: 0.0771 - accuracy: 0.9760 - val_loss: 0.0407 - val_accuracy: 0.9876\n",
      "Epoch 10/20\n",
      "2143/2143 [==============================] - 50s 23ms/step - loss: 0.0726 - accuracy: 0.9776 - val_loss: 0.0391 - val_accuracy: 0.9881\n",
      "Epoch 11/20\n",
      "2143/2143 [==============================] - 49s 23ms/step - loss: 0.0673 - accuracy: 0.9794 - val_loss: 0.0386 - val_accuracy: 0.9881\n",
      "Epoch 12/20\n",
      "2143/2143 [==============================] - 43s 20ms/step - loss: 0.0657 - accuracy: 0.9797 - val_loss: 0.0375 - val_accuracy: 0.9872\n",
      "Epoch 13/20\n",
      "2143/2143 [==============================] - 42s 20ms/step - loss: 0.0613 - accuracy: 0.9810 - val_loss: 0.0364 - val_accuracy: 0.9881\n",
      "Epoch 14/20\n",
      "2143/2143 [==============================] - 41s 19ms/step - loss: 0.0580 - accuracy: 0.9821 - val_loss: 0.0351 - val_accuracy: 0.9884\n",
      "Epoch 15/20\n",
      "2143/2143 [==============================] - 44s 21ms/step - loss: 0.0563 - accuracy: 0.9828 - val_loss: 0.0333 - val_accuracy: 0.9884\n",
      "Epoch 16/20\n",
      "2143/2143 [==============================] - 44s 21ms/step - loss: 0.0543 - accuracy: 0.9831 - val_loss: 0.0342 - val_accuracy: 0.9887\n",
      "Epoch 17/20\n",
      "2143/2143 [==============================] - 44s 21ms/step - loss: 0.0526 - accuracy: 0.9838 - val_loss: 0.0336 - val_accuracy: 0.9890\n",
      "Epoch 18/20\n",
      "2143/2143 [==============================] - 42s 20ms/step - loss: 0.0504 - accuracy: 0.9847 - val_loss: 0.0323 - val_accuracy: 0.9895\n",
      "Epoch 19/20\n",
      "2143/2143 [==============================] - 36s 17ms/step - loss: 0.0480 - accuracy: 0.9852 - val_loss: 0.0311 - val_accuracy: 0.9895\n",
      "Epoch 20/20\n",
      "2143/2143 [==============================] - 35s 16ms/step - loss: 0.0453 - accuracy: 0.9857 - val_loss: 0.0302 - val_accuracy: 0.9905\n"
     ]
    }
   ],
   "source": [
    "history=model.fit(x_train, keras.utils.to_categorical(y_train), batch_size=28, epochs=20, \n",
    "                  validation_data=(x_test, keras.utils.to_categorical(y_test)))"
   ]
  },
  {
   "cell_type": "code",
   "execution_count": 226,
   "id": "7f001eac",
   "metadata": {},
   "outputs": [
    {
     "data": {
      "image/png": "[encoded data removed]",
      "text/plain": [
       "<Figure size 432x288 with 1 Axes>"
      ]
     },
     "metadata": {
      "needs_background": "light"
     },
     "output_type": "display_data"
    }
   ],
   "source": [
    "## checking for overfitting\n",
    "# Plot training loss against validation loss\n",
    "#Plots the training loss as a line with label \"Training Loss\".\n",
    "plt.plot(history.history['loss'], label='Training Loss')\n",
    "#Plots the validation loss as a line with label \"Validation Loss\".\n",
    "plt.plot(history.history['val_loss'], label='Validation Loss')\n",
    "#Sets the title of the plot to \"Training and Validation Loss\".\n",
    "plt.title('Training and Validation Loss Decreased CNN Blocks')\n",
    "#Sets the label of the x-axis to \"Epochs\".\n",
    "plt.xlabel('Epochs')\n",
    "#Sets the label of the y-axis to \"Loss\".\n",
    "plt.ylabel('Loss')\n",
    "#Shows the legend of the plot with the labels of the two lines.\n",
    "plt.legend()\n",
    "#Shows the plot on the screen.\n",
    "plt.show()\n"
   ]
  },
  {
   "cell_type": "markdown",
   "id": "f9352c10",
   "metadata": {},
   "source": [
    "#### Effect of Varying the Learning Rate"
   ]
  },
  {
   "cell_type": "code",
   "execution_count": 198,
   "id": "4e121fb7",
   "metadata": {},
   "outputs": [],
   "source": [
    "# Define the CNN architecture\n",
    "# Conv2D(filters=32,kernel_size=(3, 3) means use 32 filters (also called kernels) of size 3x3\n",
    "# input_shape=(32, 32, 3) means the input data is a 3D tensor with dimensions 32x32x3.(height x width x\n",
    "# The first dimension of the tensor (32) is the height of the image.\n",
    "#The second dimension of the tensor (32) is the width of the image.\n",
    "#The third dimension of the tensor (3) is the number of channels in the image (Red, Green, Blue colo\n",
    "# The MaxPooling2D(2, 2) performs a pooling operation where the (2,2) argument indicates the size of the\n",
    "# It reduces the spatial size of the feature maps and prevent overfitting\n",
    "# The output of the convolutional and pooling layers is a 3D tensor;\n",
    "# The Flatten() layer takes 3D tensor (height, width, channels) and reshapes it into a 1D array;\n",
    "# The output of the convolutional and pooling layers is a 3D tensor;\n",
    "# 1D array is required by the fully connected (dense) layers;\n",
    "# Flatten() later enables the transition from the convolutional and pooling layers to the fully conn\n",
    "# For example 3D (8*8*64) becomes 4096 (8*8*64) after flatenning\n",
    "model = Sequential()\n",
    "model.add(Conv2D(filters=32,kernel_size=(3,3),input_shape=(28,28,1),activation = 'relu',padding = 'same'))\n",
    "#model.add(Conv2D(filters=32,kernel_size=(3,3),input_shape=(32,32,3),activation = 'relu',padding = 'valid')\n",
    "model.add(MaxPooling2D(pool_size=(2,2)))\n",
    "model.add(Conv2D(filters=64,kernel_size=(3,3),activation = 'relu'))\n",
    "model.add(MaxPooling2D(pool_size=(2,2)))\n",
    "model.add(Conv2D(filters=128,kernel_size=(3,3),activation = 'relu'))\n",
    "model.add(MaxPooling2D(pool_size=(2,2)))\n",
    "#model.add(BatchNormalization())\n",
    "model.add(Flatten())\n",
    "model.add(Dense(128,activation = 'relu'))\n",
    "model.add(Dropout(0.5))\n",
    "model.add(Dense(10,activation = 'softmax'))"
   ]
  },
  {
   "cell_type": "code",
   "execution_count": 199,
   "id": "2e7c5e11",
   "metadata": {},
   "outputs": [
    {
     "name": "stdout",
     "output_type": "stream",
     "text": [
      "Model: \"sequential_34\"\n",
      "_________________________________________________________________\n",
      " Layer (type)                Output Shape              Param #   \n",
      "=================================================================\n",
      " conv2d_107 (Conv2D)         (None, 28, 28, 32)        320       \n",
      "                                                                 \n",
      " max_pooling2d_96 (MaxPoolin  (None, 14, 14, 32)       0         \n",
      " g2D)                                                            \n",
      "                                                                 \n",
      " conv2d_108 (Conv2D)         (None, 12, 12, 64)        18496     \n",
      "                                                                 \n",
      " max_pooling2d_97 (MaxPoolin  (None, 6, 6, 64)         0         \n",
      " g2D)                                                            \n",
      "                                                                 \n",
      " conv2d_109 (Conv2D)         (None, 4, 4, 128)         73856     \n",
      "                                                                 \n",
      " max_pooling2d_98 (MaxPoolin  (None, 2, 2, 128)        0         \n",
      " g2D)                                                            \n",
      "                                                                 \n",
      " flatten_21 (Flatten)        (None, 512)               0         \n",
      "                                                                 \n",
      " dense_40 (Dense)            (None, 128)               65664     \n",
      "                                                                 \n",
      " dropout_10 (Dropout)        (None, 128)               0         \n",
      "                                                                 \n",
      " dense_41 (Dense)            (None, 10)                1290      \n",
      "                                                                 \n",
      "=================================================================\n",
      "Total params: 159,626\n",
      "Trainable params: 159,626\n",
      "Non-trainable params: 0\n",
      "_________________________________________________________________\n"
     ]
    }
   ],
   "source": [
    "# print the summary of the model constructed\n",
    "model.summary()\n"
   ]
  },
  {
   "cell_type": "code",
   "execution_count": 201,
   "id": "ca517820",
   "metadata": {},
   "outputs": [],
   "source": [
    "# Compile the model with categorical cross-entropy loss and SGD optimizer\n",
    "#categorical_crossentropy - loss function during model training\n",
    "#accuracy - Evaluation measure\n",
    "#SGD - Stochastic Gradient Descent\n",
    "# learning_rate=0.01 specifies the step size of the updates to the weights during training.\n",
    "# momentum=0.9 is a parameter that helps the optimizer to accelerate in the direction of the gradient an\n",
    "# Higher values of momentum allow the optimizer to move more smoothly towards the global minimum\n",
    "# and reduce the chance of getting stuck in local minima.\n",
    "model.compile(optimizer=SGD(learning_rate=0.01, momentum=0.9), loss='categorical_crossentropy', metrics=['accuracy'])\n"
   ]
  },
  {
   "cell_type": "code",
   "execution_count": 202,
   "id": "fb676898",
   "metadata": {},
   "outputs": [
    {
     "name": "stdout",
     "output_type": "stream",
     "text": [
      "Epoch 1/20\n",
      "2143/2143 [==============================] - 30s 14ms/step - loss: 0.2847 - accuracy: 0.9073 - val_loss: 0.0391 - val_accuracy: 0.9864\n",
      "Epoch 2/20\n",
      "2143/2143 [==============================] - 31s 15ms/step - loss: 0.0722 - accuracy: 0.9792 - val_loss: 0.0375 - val_accuracy: 0.9875\n",
      "Epoch 3/20\n",
      "2143/2143 [==============================] - 31s 14ms/step - loss: 0.0513 - accuracy: 0.9847 - val_loss: 0.0320 - val_accuracy: 0.9898\n",
      "Epoch 4/20\n",
      "2143/2143 [==============================] - 32s 15ms/step - loss: 0.0401 - accuracy: 0.9881 - val_loss: 0.0302 - val_accuracy: 0.9903\n",
      "Epoch 5/20\n",
      "2143/2143 [==============================] - 34s 16ms/step - loss: 0.0347 - accuracy: 0.9898 - val_loss: 0.0284 - val_accuracy: 0.9913\n",
      "Epoch 6/20\n",
      "2143/2143 [==============================] - 34s 16ms/step - loss: 0.0274 - accuracy: 0.9915 - val_loss: 0.0271 - val_accuracy: 0.9915\n",
      "Epoch 7/20\n",
      "2143/2143 [==============================] - 34s 16ms/step - loss: 0.0256 - accuracy: 0.9923 - val_loss: 0.0218 - val_accuracy: 0.9938\n",
      "Epoch 8/20\n",
      "2143/2143 [==============================] - 35s 16ms/step - loss: 0.0225 - accuracy: 0.9931 - val_loss: 0.0234 - val_accuracy: 0.9923\n",
      "Epoch 9/20\n",
      "2143/2143 [==============================] - 35s 16ms/step - loss: 0.0183 - accuracy: 0.9942 - val_loss: 0.0286 - val_accuracy: 0.9918\n",
      "Epoch 10/20\n",
      "2143/2143 [==============================] - 35s 16ms/step - loss: 0.0164 - accuracy: 0.9950 - val_loss: 0.0237 - val_accuracy: 0.9931\n",
      "Epoch 11/20\n",
      "2143/2143 [==============================] - 35s 17ms/step - loss: 0.0151 - accuracy: 0.9955 - val_loss: 0.0269 - val_accuracy: 0.9925\n",
      "Epoch 12/20\n",
      "2143/2143 [==============================] - 45s 21ms/step - loss: 0.0143 - accuracy: 0.9954 - val_loss: 0.0224 - val_accuracy: 0.9937\n",
      "Epoch 13/20\n",
      "2143/2143 [==============================] - 44s 20ms/step - loss: 0.0136 - accuracy: 0.9956 - val_loss: 0.0232 - val_accuracy: 0.9934\n",
      "Epoch 14/20\n",
      "2143/2143 [==============================] - 41s 19ms/step - loss: 0.0118 - accuracy: 0.9962 - val_loss: 0.0300 - val_accuracy: 0.9923\n",
      "Epoch 15/20\n",
      "2143/2143 [==============================] - 38s 18ms/step - loss: 0.0109 - accuracy: 0.9964 - val_loss: 0.0247 - val_accuracy: 0.9933\n",
      "Epoch 16/20\n",
      "2143/2143 [==============================] - 39s 18ms/step - loss: 0.0113 - accuracy: 0.9965 - val_loss: 0.0266 - val_accuracy: 0.9924\n",
      "Epoch 17/20\n",
      "2143/2143 [==============================] - 41s 19ms/step - loss: 0.0090 - accuracy: 0.9970 - val_loss: 0.0359 - val_accuracy: 0.9927\n",
      "Epoch 18/20\n",
      "2143/2143 [==============================] - 40s 19ms/step - loss: 0.0077 - accuracy: 0.9974 - val_loss: 0.0293 - val_accuracy: 0.9928\n",
      "Epoch 19/20\n",
      "2143/2143 [==============================] - 41s 19ms/step - loss: 0.0085 - accuracy: 0.9973 - val_loss: 0.0297 - val_accuracy: 0.9928\n",
      "Epoch 20/20\n",
      "2143/2143 [==============================] - 44s 20ms/step - loss: 0.0066 - accuracy: 0.9979 - val_loss: 0.0300 - val_accuracy: 0.9923\n"
     ]
    }
   ],
   "source": [
    "history=model.fit(x_train, keras.utils.to_categorical(y_train), batch_size=28, epochs=20, \n",
    "                  validation_data=(x_test, keras.utils.to_categorical(y_test)))"
   ]
  },
  {
   "cell_type": "code",
   "execution_count": 203,
   "id": "d729df5f",
   "metadata": {},
   "outputs": [
    {
     "data": {
      "image/png": "[encoded data removed]",
      "text/plain": [
       "<Figure size 432x288 with 1 Axes>"
      ]
     },
     "metadata": {
      "needs_background": "light"
     },
     "output_type": "display_data"
    }
   ],
   "source": [
    "## checking for overfitting\n",
    "# Plot training loss against validation loss\n",
    "#Plots the training loss as a line with label \"Training Loss\".\n",
    "plt.plot(history.history['loss'], label='Training Loss')\n",
    "#Plots the validation loss as a line with label \"Validation Loss\".\n",
    "plt.plot(history.history['val_loss'], label='Validation Loss')\n",
    "#Sets the title of the plot to \"Training and Validation Loss\".\n",
    "plt.title('Training and Validation Loss With Learning Rate Change')\n",
    "#Sets the label of the x-axis to \"Epochs\".\n",
    "plt.xlabel('Epochs')\n",
    "#Sets the label of the y-axis to \"Loss\".\n",
    "plt.ylabel('Loss')\n",
    "#Shows the legend of the plot with the labels of the two lines.\n",
    "plt.legend()\n",
    "#Shows the plot on the screen.\n",
    "plt.show()\n"
   ]
  },
  {
   "cell_type": "markdown",
   "id": "8789dae4",
   "metadata": {},
   "source": [
    "### Batch Normalization and Dropout"
   ]
  },
  {
   "cell_type": "code",
   "execution_count": 133,
   "id": "b1fd6f9e",
   "metadata": {},
   "outputs": [],
   "source": [
    "# Define the CNN architecture\n",
    "# Conv2D(filters=32,kernel_size=(3, 3) means use 32 filters (also called kernels) of size 3x3\n",
    "# input_shape=(32, 32, 3) means the input data is a 3D tensor with dimensions 32x32x3.(height x width x\n",
    "# The first dimension of the tensor (32) is the height of the image.\n",
    "#The second dimension of the tensor (32) is the width of the image.\n",
    "#The third dimension of the tensor (3) is the number of channels in the image (Red, Green, Blue colo\n",
    "# The MaxPooling2D(2, 2) performs a pooling operation where the (2,2) argument indicates the size of the\n",
    "# It reduces the spatial size of the feature maps and prevent overfitting\n",
    "# The output of the convolutional and pooling layers is a 3D tensor;\n",
    "# The Flatten() layer takes 3D tensor (height, width, channels) and reshapes it into a 1D array;\n",
    "# The output of the convolutional and pooling layers is a 3D tensor;\n",
    "# 1D array is required by the fully connected (dense) layers;\n",
    "# Flatten() later enables the transition from the convolutional and pooling layers to the fully conn\n",
    "# For example 3D (8*8*64) becomes 4096 (8*8*64) after flatenning\n",
    "model = Sequential()\n",
    "model.add(Conv2D(filters=32,kernel_size=(3,3),input_shape=(28,28,1),activation = 'relu',padding = 'same'))\n",
    "#model.add(Conv2D(filters=32,kernel_size=(3,3),input_shape=(32,32,3),activation = 'relu',padding = 'valid')\n",
    "model.add(MaxPooling2D(pool_size=(2,2)))\n",
    "model.add(Conv2D(filters=64,kernel_size=(2,2),activation = 'relu'))\n",
    "model.add(MaxPooling2D(pool_size=(2,2)))\n",
    "model.add(Conv2D(filters=128,kernel_size=(2,2),activation = 'relu'))\n",
    "model.add(MaxPooling2D(pool_size=(2,2)))\n",
    "model.add(BatchNormalization())\n",
    "model.add(Flatten())\n",
    "model.add(Dense(128,activation = 'relu'))\n",
    "model.add(Dropout(0.5))\n",
    "model.add(Dense(10,activation = 'softmax'))\n"
   ]
  },
  {
   "cell_type": "code",
   "execution_count": 134,
   "id": "287f8cb5",
   "metadata": {},
   "outputs": [
    {
     "name": "stdout",
     "output_type": "stream",
     "text": [
      "Model: \"sequential_15\"\n",
      "_________________________________________________________________\n",
      " Layer (type)                Output Shape              Param #   \n",
      "=================================================================\n",
      " conv2d_41 (Conv2D)          (None, 28, 28, 32)        320       \n",
      "                                                                 \n",
      " max_pooling2d_36 (MaxPoolin  (None, 14, 14, 32)       0         \n",
      " g2D)                                                            \n",
      "                                                                 \n",
      " conv2d_42 (Conv2D)          (None, 13, 13, 64)        8256      \n",
      "                                                                 \n",
      " max_pooling2d_37 (MaxPoolin  (None, 6, 6, 64)         0         \n",
      " g2D)                                                            \n",
      "                                                                 \n",
      " conv2d_43 (Conv2D)          (None, 5, 5, 128)         32896     \n",
      "                                                                 \n",
      " max_pooling2d_38 (MaxPoolin  (None, 2, 2, 128)        0         \n",
      " g2D)                                                            \n",
      "                                                                 \n",
      " batch_normalization_2 (Batc  (None, 2, 2, 128)        512       \n",
      " hNormalization)                                                 \n",
      "                                                                 \n",
      " flatten_12 (Flatten)        (None, 512)               0         \n",
      "                                                                 \n",
      " dense_23 (Dense)            (None, 128)               65664     \n",
      "                                                                 \n",
      " dropout_5 (Dropout)         (None, 128)               0         \n",
      "                                                                 \n",
      " dense_24 (Dense)            (None, 10)                1290      \n",
      "                                                                 \n",
      "=================================================================\n",
      "Total params: 108,938\n",
      "Trainable params: 108,682\n",
      "Non-trainable params: 256\n",
      "_________________________________________________________________\n"
     ]
    }
   ],
   "source": [
    "# print the summary of the model constructed\n",
    "model.summary()\n"
   ]
  },
  {
   "cell_type": "code",
   "execution_count": 135,
   "id": "aaff03f5",
   "metadata": {},
   "outputs": [],
   "source": [
    "# Compile the model with categorical cross-entropy loss and SGD optimizer\n",
    "#categorical_crossentropy - loss function during model training\n",
    "#accuracy - Evaluation measure\n",
    "#SGD - Stochastic Gradient Descent\n",
    "# learning_rate=0.001 specifies the step size of the updates to the weights during training.\n",
    "# momentum=0.9 is a parameter that helps the optimizer to accelerate in the direction of the gradient an\n",
    "# Higher values of momentum allow the optimizer to move more smoothly towards the global minimum\n",
    "# and reduce the chance of getting stuck in local minima.\n",
    "model.compile(optimizer=SGD(learning_rate=0.001, momentum=0.9), loss='categorical_crossentropy', metrics=['accuracy'])\n"
   ]
  },
  {
   "cell_type": "code",
   "execution_count": 128,
   "id": "824bf3c1",
   "metadata": {},
   "outputs": [
    {
     "name": "stdout",
     "output_type": "stream",
     "text": [
      "Epoch 1/20\n",
      "2143/2143 [==============================] - 46s 21ms/step - loss: 0.3042 - accuracy: 0.9073 - val_loss: 0.0771 - val_accuracy: 0.9772\n",
      "Epoch 2/20\n",
      "2143/2143 [==============================] - 51s 24ms/step - loss: 0.1143 - accuracy: 0.9661 - val_loss: 0.0557 - val_accuracy: 0.9840\n",
      "Epoch 3/20\n",
      "2143/2143 [==============================] - 48s 22ms/step - loss: 0.0854 - accuracy: 0.9746 - val_loss: 0.0534 - val_accuracy: 0.9842\n",
      "Epoch 4/20\n",
      "2143/2143 [==============================] - 49s 23ms/step - loss: 0.0710 - accuracy: 0.9785 - val_loss: 0.0465 - val_accuracy: 0.9856\n",
      "Epoch 5/20\n",
      "2143/2143 [==============================] - 52s 24ms/step - loss: 0.0611 - accuracy: 0.9818 - val_loss: 0.0428 - val_accuracy: 0.9869\n",
      "Epoch 6/20\n",
      "2143/2143 [==============================] - 61s 29ms/step - loss: 0.0535 - accuracy: 0.9839 - val_loss: 0.0417 - val_accuracy: 0.9874\n",
      "Epoch 7/20\n",
      "2143/2143 [==============================] - 49s 23ms/step - loss: 0.0498 - accuracy: 0.9848 - val_loss: 0.0373 - val_accuracy: 0.9890\n",
      "Epoch 8/20\n",
      "2143/2143 [==============================] - 43s 20ms/step - loss: 0.0452 - accuracy: 0.9862 - val_loss: 0.0392 - val_accuracy: 0.9888\n",
      "Epoch 9/20\n",
      "2143/2143 [==============================] - 43s 20ms/step - loss: 0.0413 - accuracy: 0.9873 - val_loss: 0.0402 - val_accuracy: 0.9883\n",
      "Epoch 10/20\n",
      "2143/2143 [==============================] - 44s 20ms/step - loss: 0.0391 - accuracy: 0.9883 - val_loss: 0.0378 - val_accuracy: 0.9892\n",
      "Epoch 11/20\n",
      "2143/2143 [==============================] - 45s 21ms/step - loss: 0.0353 - accuracy: 0.9893 - val_loss: 0.0358 - val_accuracy: 0.9906\n",
      "Epoch 12/20\n",
      "2143/2143 [==============================] - 44s 21ms/step - loss: 0.0339 - accuracy: 0.9893 - val_loss: 0.0381 - val_accuracy: 0.9891\n",
      "Epoch 13/20\n",
      "2143/2143 [==============================] - 40s 19ms/step - loss: 0.0320 - accuracy: 0.9900 - val_loss: 0.0376 - val_accuracy: 0.9896\n",
      "Epoch 14/20\n",
      "2143/2143 [==============================] - 40s 19ms/step - loss: 0.0305 - accuracy: 0.9906 - val_loss: 0.0331 - val_accuracy: 0.9904\n",
      "Epoch 15/20\n",
      "2143/2143 [==============================] - 44s 21ms/step - loss: 0.0270 - accuracy: 0.9912 - val_loss: 0.0360 - val_accuracy: 0.9894\n",
      "Epoch 16/20\n",
      "2143/2143 [==============================] - 42s 20ms/step - loss: 0.0256 - accuracy: 0.9921 - val_loss: 0.0328 - val_accuracy: 0.9905\n",
      "Epoch 17/20\n",
      "2143/2143 [==============================] - 46s 21ms/step - loss: 0.0239 - accuracy: 0.9929 - val_loss: 0.0339 - val_accuracy: 0.9905\n",
      "Epoch 18/20\n",
      "2143/2143 [==============================] - 44s 21ms/step - loss: 0.0228 - accuracy: 0.9927 - val_loss: 0.0372 - val_accuracy: 0.9894\n",
      "Epoch 19/20\n",
      "2143/2143 [==============================] - 44s 21ms/step - loss: 0.0217 - accuracy: 0.9932 - val_loss: 0.0347 - val_accuracy: 0.9912\n",
      "Epoch 20/20\n",
      "2143/2143 [==============================] - 49s 23ms/step - loss: 0.0209 - accuracy: 0.9935 - val_loss: 0.0346 - val_accuracy: 0.9903\n"
     ]
    }
   ],
   "source": [
    "history=model.fit(x_train, keras.utils.to_categorical(y_train), batch_size=28, epochs=20, \n",
    "                  validation_data=(x_test, keras.utils.to_categorical(y_test)))"
   ]
  },
  {
   "cell_type": "code",
   "execution_count": 129,
   "id": "b8962cfc",
   "metadata": {},
   "outputs": [
    {
     "data": {
      "image/png": "[encoded data removed]",
      "text/plain": [
       "<Figure size 432x288 with 1 Axes>"
      ]
     },
     "metadata": {
      "needs_background": "light"
     },
     "output_type": "display_data"
    }
   ],
   "source": [
    "## checking for overfitting\n",
    "# Plot training loss against validation loss\n",
    "#Plots the training loss as a line with label \"Training Loss\".\n",
    "plt.plot(history.history['loss'], label='Training Loss')\n",
    "#Plots the validation loss as a line with label \"Validation Loss\".\n",
    "plt.plot(history.history['val_loss'], label='Validation Loss')\n",
    "#Sets the title of the plot to \"Training and Validation Loss\".\n",
    "plt.title('Training and Validation Loss')\n",
    "#Sets the label of the x-axis to \"Epochs\".\n",
    "plt.xlabel('Epochs')\n",
    "#Sets the label of the y-axis to \"Loss\".\n",
    "plt.ylabel('Loss')\n",
    "#Shows the legend of the plot with the labels of the two lines.\n",
    "plt.legend()\n",
    "#Shows the plot on the screen.\n",
    "plt.show()\n"
   ]
  },
  {
   "cell_type": "code",
   "execution_count": 136,
   "id": "6c9f97d5",
   "metadata": {},
   "outputs": [
    {
     "name": "stdout",
     "output_type": "stream",
     "text": [
      "Epoch 1/20\n",
      "2143/2143 [==============================] - 39s 18ms/step - loss: 0.3022 - accuracy: 0.9088 - val_loss: 0.0908 - val_accuracy: 0.9738\n",
      "Epoch 2/20\n",
      "2143/2143 [==============================] - 40s 18ms/step - loss: 0.1164 - accuracy: 0.9665 - val_loss: 0.0558 - val_accuracy: 0.9842\n",
      "Epoch 3/20\n",
      "2143/2143 [==============================] - 41s 19ms/step - loss: 0.0859 - accuracy: 0.9740 - val_loss: 0.0510 - val_accuracy: 0.9846\n",
      "Epoch 4/20\n",
      "2143/2143 [==============================] - 41s 19ms/step - loss: 0.0712 - accuracy: 0.9786 - val_loss: 0.0433 - val_accuracy: 0.9870\n",
      "Epoch 5/20\n",
      "2143/2143 [==============================] - 40s 19ms/step - loss: 0.0627 - accuracy: 0.9813 - val_loss: 0.0419 - val_accuracy: 0.9867\n",
      "Epoch 6/20\n",
      "2143/2143 [==============================] - 42s 19ms/step - loss: 0.0554 - accuracy: 0.9829 - val_loss: 0.0426 - val_accuracy: 0.9868\n",
      "Epoch 7/20\n",
      "2143/2143 [==============================] - 41s 19ms/step - loss: 0.0487 - accuracy: 0.9849 - val_loss: 0.0422 - val_accuracy: 0.9870\n",
      "Epoch 8/20\n",
      "2143/2143 [==============================] - 48s 23ms/step - loss: 0.0449 - accuracy: 0.9864 - val_loss: 0.0450 - val_accuracy: 0.9871\n",
      "Epoch 9/20\n",
      "2143/2143 [==============================] - 36s 17ms/step - loss: 0.0412 - accuracy: 0.9880 - val_loss: 0.0367 - val_accuracy: 0.9888\n",
      "Epoch 10/20\n",
      "2143/2143 [==============================] - 40s 19ms/step - loss: 0.0401 - accuracy: 0.9881 - val_loss: 0.0409 - val_accuracy: 0.9882\n",
      "Epoch 11/20\n",
      "2143/2143 [==============================] - 36s 17ms/step - loss: 0.0360 - accuracy: 0.9891 - val_loss: 0.0373 - val_accuracy: 0.9879\n",
      "Epoch 12/20\n",
      "2143/2143 [==============================] - 36s 17ms/step - loss: 0.0338 - accuracy: 0.9899 - val_loss: 0.0341 - val_accuracy: 0.9898\n",
      "Epoch 13/20\n",
      "2143/2143 [==============================] - 38s 18ms/step - loss: 0.0317 - accuracy: 0.9898 - val_loss: 0.0331 - val_accuracy: 0.9898\n",
      "Epoch 14/20\n",
      "2143/2143 [==============================] - 36s 17ms/step - loss: 0.0292 - accuracy: 0.9914 - val_loss: 0.0323 - val_accuracy: 0.9904\n",
      "Epoch 15/20\n",
      "2143/2143 [==============================] - 36s 17ms/step - loss: 0.0280 - accuracy: 0.9911 - val_loss: 0.0336 - val_accuracy: 0.9895\n",
      "Epoch 16/20\n",
      "2143/2143 [==============================] - 36s 17ms/step - loss: 0.0267 - accuracy: 0.9917 - val_loss: 0.0343 - val_accuracy: 0.9908\n",
      "Epoch 17/20\n",
      "2143/2143 [==============================] - 36s 17ms/step - loss: 0.0249 - accuracy: 0.9923 - val_loss: 0.0345 - val_accuracy: 0.9896\n",
      "Epoch 18/20\n",
      "2143/2143 [==============================] - 36s 17ms/step - loss: 0.0237 - accuracy: 0.9930 - val_loss: 0.0340 - val_accuracy: 0.9895\n",
      "Epoch 19/20\n",
      "2143/2143 [==============================] - 36s 17ms/step - loss: 0.0212 - accuracy: 0.9932 - val_loss: 0.0347 - val_accuracy: 0.9901\n",
      "Epoch 20/20\n",
      "2143/2143 [==============================] - 37s 17ms/step - loss: 0.0216 - accuracy: 0.9931 - val_loss: 0.0355 - val_accuracy: 0.9900\n"
     ]
    }
   ],
   "source": [
    "history=model.fit(x_train, keras.utils.to_categorical(y_train), batch_size=28, epochs=20, \n",
    "                  validation_data=(x_test, keras.utils.to_categorical(y_test)), callbacks=[custom_early_stopping])"
   ]
  },
  {
   "cell_type": "code",
   "execution_count": 137,
   "id": "40558523",
   "metadata": {},
   "outputs": [
    {
     "data": {
      "image/png": "[encoded data removed]",
      "text/plain": [
       "<Figure size 432x288 with 1 Axes>"
      ]
     },
     "metadata": {
      "needs_background": "light"
     },
     "output_type": "display_data"
    }
   ],
   "source": [
    "## checking for overfitting\n",
    "# Plot training loss against validation loss\n",
    "#Plots the training loss as a line with label \"Training Loss\".\n",
    "plt.plot(history.history['loss'], label='Training Loss')\n",
    "#Plots the validation loss as a line with label \"Validation Loss\".\n",
    "plt.plot(history.history['val_loss'], label='Validation Loss')\n",
    "#Sets the title of the plot to \"Training and Validation Loss\".\n",
    "plt.title('Training and Validation Loss')\n",
    "#Sets the label of the x-axis to \"Epochs\".\n",
    "plt.xlabel('Epochs')\n",
    "#Sets the label of the y-axis to \"Loss\".\n",
    "plt.ylabel('Loss')\n",
    "#Shows the legend of the plot with the labels of the two lines.\n",
    "plt.legend()\n",
    "#Shows the plot on the screen.\n",
    "plt.show()\n"
   ]
  },
  {
   "cell_type": "code",
   "execution_count": 2,
   "id": "d72b1142",
   "metadata": {},
   "outputs": [
    {
     "ename": "NameError",
     "evalue": "name 'model' is not defined",
     "output_type": "error",
     "traceback": [
      "\u001b[1;31m---------------------------------------------------------------------------\u001b[0m",
      "\u001b[1;31mNameError\u001b[0m                                 Traceback (most recent call last)",
      "Cell \u001b[1;32mIn[2], line 1\u001b[0m\n\u001b[1;32m----> 1\u001b[0m model\u001b[38;5;241m.\u001b[39mevaluate(x_test, y_test)\n",
      "\u001b[1;31mNameError\u001b[0m: name 'model' is not defined"
     ]
    }
   ],
   "source": [
    "model.evaluate(x_test, y_test)"
   ]
  },
  {
   "cell_type": "code",
   "execution_count": null,
   "id": "8bfbaad8",
   "metadata": {},
   "outputs": [],
   "source": []
  }
 ],
 "metadata": {
  "kernelspec": {
   "display_name": "Python 3 (ipykernel)",
   "language": "python",
   "name": "python3"
  },
  "language_info": {
   "codemirror_mode": {
    "name": "ipython",
    "version": 3
   },
   "file_extension": ".py",
   "mimetype": "text/x-python",
   "name": "python",
   "nbconvert_exporter": "python",
   "pygments_lexer": "ipython3",
   "version": "3.11.4"
  }
 },
 "nbformat": 4,
 "nbformat_minor": 5
}
